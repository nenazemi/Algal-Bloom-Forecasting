{
 "cells": [
  {
   "cell_type": "markdown",
   "metadata": {},
   "source": [
    "### Import libraries"
   ]
  },
  {
   "cell_type": "code",
   "execution_count": 12,
   "metadata": {},
   "outputs": [],
   "source": [
    "import pandas as pd\n",
    "import numpy as np\n",
    "from math import sqrt\n",
    "from numpy import split\n",
    "from numpy import array\n",
    "from pandas import read_csv\n",
    "from sklearn.metrics import mean_squared_error\n",
    "import matplotlib.pyplot as plt\n",
    "from keras.models import Sequential\n",
    "from keras.layers import Dense\n",
    "from keras.layers import Flatten\n",
    "from keras.layers.convolutional import Conv1D\n",
    "from keras.layers.convolutional import MaxPooling1D\n",
    "from sklearn import preprocessing\n",
    "from scipy import stats\n",
    "import csv"
   ]
  },
  {
   "cell_type": "markdown",
   "metadata": {},
   "source": [
    "I tried to get read of a warning error "
   ]
  },
  {
   "cell_type": "code",
   "execution_count": 13,
   "metadata": {},
   "outputs": [],
   "source": [
    "import os\n",
    "import sys\n",
    "import logging\n",
    "\n",
    "os.environ['TF_CPP_MIN_LOG_LEVEL'] = '3'\n",
    "\n",
    "# Keras outputs warnings using `print` to stderr so let's direct that to devnull temporarily\n",
    "stderr = sys.stderr\n",
    "sys.stderr = open(os.devnull, 'w')\n",
    "\n",
    "import keras\n",
    "\n",
    "# we're done\n",
    "sys.stderr = stderr\n",
    "\n",
    "from keras.backend.tensorflow_backend import tf\n",
    "\n",
    "import absl.logging\n",
    "logging.root.removeHandler(absl.logging._absl_handler)\n",
    "absl.logging._warn_preinit_stderr = False\n",
    "\n",
    "logger = tf.get_logger()\n",
    "logger.setLevel(logging.FATAL)\n",
    "\n",
    "graph = tf.get_default_graph()"
   ]
  },
  {
   "cell_type": "code",
   "execution_count": 14,
   "metadata": {},
   "outputs": [],
   "source": [
    "# load the new file (lastest dataset with color_normalize loading rates)\n",
    "dataset = read_csv('/Volumes/GoogleDrive/My Drive/UVa/Spring2019/Presidential Fellowship/BloomForecasting/Data/Raw/ExperimentalLakes/ExperimentalLakes_Data_withColorNormalizedCumulativePloading.csv', header=0, infer_datetime_format=True, parse_dates=['date'], index_col=['date'])"
   ]
  },
  {
   "cell_type": "code",
   "execution_count": 15,
   "metadata": {},
   "outputs": [],
   "source": [
    "#Data Preprocessing (Filtering the Peter Lake data, keep only Chla column, droping missing Chl values, normalizing Chla data)\n",
    "\n",
    "def data_prep_uni(dataset, lake):\n",
    "    ex = dataset[dataset.lake==lake]\n",
    "    ex = ex.dropna(subset=[\"chl\"])\n",
    "    ex = ex.chl.values\n",
    "    #min_max_scaler = preprocessing.MinMaxScaler()\n",
    "    #ex = min_max_scaler.fit_transform(ex.reshape(-1, 1))*100\n",
    "    return ex"
   ]
  },
  {
   "cell_type": "code",
   "execution_count": 22,
   "metadata": {},
   "outputs": [],
   "source": [
    "ex_R = data_prep_uni (dataset,\"R\")\n",
    "ex_T = data_prep_uni (dataset,\"T\")"
   ]
  },
  {
   "cell_type": "code",
   "execution_count": 23,
   "metadata": {},
   "outputs": [],
   "source": [
    "# split a univariate dataset into train/test sets\n",
    "def split_dataset(data):\n",
    "\t# split into standard weeks\n",
    "\ttrain, test = data[1:816], data[816:]\n",
    "\t# restructure into windows of weekly data\n",
    "\t#train = array(split(train, len(train)/7))\n",
    "\t#test = array(split(test, len(test)/7))\n",
    "\treturn train, test"
   ]
  },
  {
   "cell_type": "code",
   "execution_count": 24,
   "metadata": {},
   "outputs": [],
   "source": [
    "# split into train and test\n",
    "train, test = split_dataset(ex_R)\n",
    "train= train.reshape(train.shape[0], 1)\n",
    "test= test.reshape(test.shape[0], 1)"
   ]
  },
  {
   "cell_type": "code",
   "execution_count": 31,
   "metadata": {},
   "outputs": [],
   "source": [
    "# split a univariate dataset into train/test sets\n",
    "def split_dataset_T(data):\n",
    "\t# split into standard weeks\n",
    "\ttrain, test = data[1:194], data[194:]\n",
    "\t# restructure into windows of weekly data\n",
    "\t#train = array(split(train, len(train)/7))\n",
    "\t#test = array(split(test, len(test)/7))\n",
    "\treturn train, test"
   ]
  },
  {
   "cell_type": "code",
   "execution_count": 32,
   "metadata": {},
   "outputs": [],
   "source": [
    "# split into train and test\n",
    "train_T, test_T = split_dataset_T(ex_T)\n",
    "train_T= train_T.reshape(train_T.shape[0], 1)\n",
    "test_T= test_T.reshape(test_T.shape[0], 1)"
   ]
  },
  {
   "cell_type": "code",
   "execution_count": 34,
   "metadata": {},
   "outputs": [],
   "source": [
    "# convert history into inputs and outputs\n",
    "def to_supervised(train, n_input, n_out=7):\n",
    "\t# flatten data\n",
    "\tdata = train.reshape((train.shape[0]*train.shape[1], 1))\n",
    "\tX, y = list(), list()\n",
    "\tin_start = 0\n",
    "\t# step over the entire history one time step at a time\n",
    "\tfor _ in range(len(data)):\n",
    "\t\t# define the end of the input sequence\n",
    "\t\tin_end = in_start + n_input\n",
    "\t\tout_end = in_end + n_out\n",
    "\t\t# ensure we have enough data for this instance\n",
    "\t\tif out_end <= len(data):\n",
    "\t\t\tx_input = data[in_start:in_end, 0]\n",
    "\t\t\tx_input = x_input.reshape((len(x_input), 1))\n",
    "\t\t\tX.append(x_input)\n",
    "\t\t\ty.append(data[in_end:out_end, 0])\n",
    "\t\t# move along one time step\n",
    "\t\tin_start += 1\n",
    "\treturn array(X), array(y)"
   ]
  },
  {
   "cell_type": "code",
   "execution_count": 35,
   "metadata": {},
   "outputs": [],
   "source": [
    "np.savetxt('test_observations.csv', test, fmt='%1.6f', delimiter=',')"
   ]
  },
  {
   "cell_type": "markdown",
   "metadata": {},
   "source": [
    "# Naive Model"
   ]
  },
  {
   "cell_type": "code",
   "execution_count": 36,
   "metadata": {},
   "outputs": [],
   "source": [
    "# naive forecast strategies for the power usage dataset\n",
    "from math import sqrt\n",
    "from numpy import split\n",
    "from numpy import array\n",
    "from pandas import read_csv\n",
    "from sklearn.metrics import mean_squared_error\n",
    "from matplotlib import pyplot"
   ]
  },
  {
   "cell_type": "code",
   "execution_count": 37,
   "metadata": {},
   "outputs": [],
   "source": [
    "# evaluate one or more weekly forecasts against expected values\n",
    "def evaluate_forecasts_Naive(actual, predicted):\n",
    "    scores = list()\n",
    "    # calculate an RMSE score for each day\n",
    "    for i in range(actual.shape[1]):\n",
    "        # calculate mse\n",
    "        mse = mean_squared_error(actual[:, i], predicted[:, i])\n",
    "        # calculate rmse\n",
    "        rmse = sqrt(mse)\n",
    "        # store\n",
    "        scores.append(rmse)\n",
    "        # calculate overall RMSE\n",
    "    s = 0\n",
    "    for row in range(actual.shape[0]):\n",
    "        for col in range(actual.shape[1]):\n",
    "            s += (actual[row, col] - predicted[row, col])**2\n",
    "    score = sqrt(s / (actual.shape[0] * actual.shape[1]))\n",
    "    return score, scores"
   ]
  },
  {
   "cell_type": "code",
   "execution_count": 38,
   "metadata": {},
   "outputs": [],
   "source": [
    "# summarize scores\n",
    "def summarize_scores(name, score, scores):\n",
    "    s_scores = ', '.join(['%.1f' % s for s in scores])\n",
    "    print('%s: [%.3f] %s' % (name, score, s_scores))"
   ]
  },
  {
   "cell_type": "code",
   "execution_count": 39,
   "metadata": {},
   "outputs": [],
   "source": [
    "#evaluate a single model\n",
    "def evaluate_model_naive(daily_persistence, train, test):\n",
    "    # history is a list of weekly data\n",
    "    history = [x for x in train]\n",
    "    # walk-forward validation over each week\n",
    "    predictions = list()\n",
    "    for i in range(len(test)-7):\n",
    "        # predict the week\n",
    "        yhat_sequence = daily_persistence(history)\n",
    "        # store the predictions\n",
    "        predictions.append(yhat_sequence)\n",
    "        # get real observation and add to history for predicting the next week\n",
    "        history.append(test[i, :])\n",
    "    predictions = array(predictions)\n",
    "    test_x, test_y= to_supervised(test, 7, 1)\n",
    "    \n",
    "    score, scores= evaluate_forecasts_Naive(test_x, predictions)\n",
    "    # evaluate predictions days for each week\n",
    "    return score, scores, predictions"
   ]
  },
  {
   "cell_type": "code",
   "execution_count": 40,
   "metadata": {},
   "outputs": [],
   "source": [
    "# daily persistence model\n",
    "def daily_persistence(history):\n",
    "    # get the data for the prior week\n",
    "    last_week = history[-1]\n",
    "    # get the total active power for the last day\n",
    "    value = last_week[-1]\n",
    "    # prepare 7 day forecast\n",
    "    forecast = [value for _ in range(7)]\n",
    "    return forecast"
   ]
  },
  {
   "cell_type": "code",
   "execution_count": 41,
   "metadata": {},
   "outputs": [],
   "source": [
    "# evaluate and get scores\n",
    "score_Naive, scores_Naive, prediction_Naive = evaluate_model_naive (daily_persistence, train, test)"
   ]
  },
  {
   "cell_type": "code",
   "execution_count": 42,
   "metadata": {},
   "outputs": [
    {
     "name": "stdout",
     "output_type": "stream",
     "text": [
      "Daily Persistence: [7.314] 2.8, 4.5, 6.1, 7.4, 8.4, 9.2, 9.9\n"
     ]
    }
   ],
   "source": [
    "# summarize scores\n",
    "summarize_scores('Daily Persistence', score_Naive, scores_Naive)"
   ]
  },
  {
   "cell_type": "code",
   "execution_count": 43,
   "metadata": {},
   "outputs": [],
   "source": [
    "np.savetxt('prediction_Naive.csv', prediction_Naive, fmt='%1.6f', delimiter=',')"
   ]
  },
  {
   "cell_type": "markdown",
   "metadata": {},
   "source": [
    "r_value_Naive= []\n",
    "for i in range(7):\n",
    "    r_value= stats.linregress(test_x[7:, i, 0], prediction_Naive[:, i])[2]\n",
    "    r_value_Naive.append(r_value)\n"
   ]
  },
  {
   "cell_type": "code",
   "execution_count": 44,
   "metadata": {},
   "outputs": [],
   "source": [
    "# evaluate and get scores\n",
    "score_Naive_T, scores_Naive_T, prediction_Naive_T = evaluate_model_naive (daily_persistence, train_T, test_T)"
   ]
  },
  {
   "cell_type": "code",
   "execution_count": 45,
   "metadata": {},
   "outputs": [
    {
     "name": "stdout",
     "output_type": "stream",
     "text": [
      "Daily Persistence: [7.037] 4.4, 5.1, 5.7, 7.0, 8.0, 8.2, 9.4\n"
     ]
    }
   ],
   "source": [
    "# summarize scores\n",
    "summarize_scores('Daily Persistence', score_Naive_T, scores_Naive_T)"
   ]
  },
  {
   "cell_type": "markdown",
   "metadata": {},
   "source": [
    "slope, intercept, r_value, p_value, std_err = stats.linregress(test_x[7:, 6, 0], prediction_Naive[:, 6])\n",
    "print(slope, intercept, r_value, p_value, std_err)"
   ]
  },
  {
   "cell_type": "markdown",
   "metadata": {},
   "source": [
    "# Univariate models"
   ]
  },
  {
   "cell_type": "markdown",
   "metadata": {},
   "source": [
    "## CNN multi-step forecasting"
   ]
  },
  {
   "cell_type": "code",
   "execution_count": 64,
   "metadata": {},
   "outputs": [],
   "source": [
    "# train the model\n",
    "def build_model_CNN(train, n_input):\n",
    "\t# prepare data\n",
    "\ttrain_x, train_y = to_supervised(train, n_input)\n",
    "\t# define parameters\n",
    "\tverbose, epochs, batch_size = 0, 50, 16\n",
    "\tn_timesteps, n_features, n_outputs = train_x.shape[1], train_x.shape[2], train_y.shape[1]\n",
    "\t# define model\n",
    "\tmodel = Sequential()\n",
    "\tmodel.add(Conv1D(32, 2, activation='relu', input_shape=(n_timesteps,n_features)))\n",
    "\tmodel.add(MaxPooling1D())\n",
    "\tmodel.add(Flatten())\n",
    "\tmodel.add(Dense(50, activation='relu'))\n",
    "\tmodel.add(Dense(n_outputs))\n",
    "\tmodel.compile(loss='mse', optimizer='adam')\n",
    "\t# fit network\n",
    "\tmodel.fit(train_x, train_y, epochs=epochs, batch_size=batch_size, verbose=verbose)\n",
    "\treturn model"
   ]
  },
  {
   "cell_type": "code",
   "execution_count": 65,
   "metadata": {},
   "outputs": [],
   "source": [
    "# make a forecast\n",
    "def forecast(model, history, n_input):\n",
    "\t# flatten data\n",
    "\tdata = array(history)\n",
    "\t#data = data.reshape((data.shape[0]*data.shape[1], 1))\n",
    "\t# retrieve last observations for input data (It is 7 last observations of train data)\n",
    "\tinput_x = data[-n_input:, 0]\n",
    "\t# reshape into [1, n_input, 1]\n",
    "\tinput_x = input_x.reshape((1, len(input_x), 1))\n",
    "\t# forecast the next week\n",
    "\tyhat = model.predict(input_x, verbose=0)\n",
    "\t# we only want the vector forecast\n",
    "\tyhat = yhat[0]\n",
    "\treturn yhat"
   ]
  },
  {
   "cell_type": "code",
   "execution_count": 66,
   "metadata": {},
   "outputs": [],
   "source": [
    "# evaluate one or more weekly forecasts against expected values\n",
    "def evaluate_forecasts(actual, predicted):\n",
    "\tscores = list()\n",
    "\t# calculate an RMSE score for each day\n",
    "\tfor i in range(actual.shape[1]):\n",
    "\t\t# calculate mse\n",
    "\t\tmse = mean_squared_error(actual[7:, i], predicted[7:, i])\n",
    "\t\t# calculate rmse\n",
    "\t\trmse = sqrt(mse)\n",
    "\t\t# store\n",
    "\t\tscores.append(rmse)\n",
    "\t# calculate overall RMSE\n",
    "\ts = 0\n",
    "\tfor row in range(actual.shape[0]):\n",
    "\t\tfor col in range(actual.shape[1]):\n",
    "\t\t\ts += (actual[row, col] - predicted[row, col])**2\n",
    "\tscore = sqrt(s / (actual.shape[0] * actual.shape[1]))\n",
    "\treturn score, scores"
   ]
  },
  {
   "cell_type": "code",
   "execution_count": 67,
   "metadata": {},
   "outputs": [],
   "source": [
    "# summarize scores\n",
    "def summarize_scores(name, score, scores):\n",
    "\ts_scores = ', '.join(['%.1f' % s for s in scores])\n",
    "\tprint('%s: [%.3f] %s' % (name, score, s_scores))"
   ]
  },
  {
   "cell_type": "code",
   "execution_count": 68,
   "metadata": {},
   "outputs": [],
   "source": [
    "# evaluate a single model\n",
    "def evaluate_model_CNN(train, test, n_input):\n",
    "\t# fit model\n",
    "\tmodel = build_model_CNN(train, n_input)\n",
    "\t# history is a list of weekly data\n",
    "\thistory = [x for x in train]\n",
    "\t# walk-forward validation over each week\n",
    "\tpredictions = list()\n",
    "\tfor i in range(len(test)-7):\n",
    "\t\t# predict the week\n",
    "\t\tyhat_sequence = forecast(model, history, n_input)\n",
    "\t\t# store the predictions\n",
    "\t\tpredictions.append(yhat_sequence)\n",
    "\t\t# get real observation and add to history for predicting the next week\n",
    "\t\thistory.append(test[i, :])\n",
    "\t# evaluate predictions days for each week\n",
    "\tpredictions = array(predictions)\n",
    "\ttest_x, test_y= to_supervised(test, 7, 1)\n",
    "\tscore, scores = evaluate_forecasts(test_x[:, :, 0], predictions)\n",
    "\treturn score, scores, predictions"
   ]
  },
  {
   "cell_type": "code",
   "execution_count": 69,
   "metadata": {},
   "outputs": [],
   "source": [
    "# evaluate model and get scores\n",
    "n_input = 7\n",
    "score_CNN, scores_CNN, prediction_CNN= evaluate_model_CNN(train, test, n_input)"
   ]
  },
  {
   "cell_type": "code",
   "execution_count": 70,
   "metadata": {},
   "outputs": [
    {
     "name": "stdout",
     "output_type": "stream",
     "text": [
      "cnn: [6.984] 3.4, 4.8, 6.1, 7.3, 8.2, 8.9, 9.6\n"
     ]
    }
   ],
   "source": [
    "# summarize scores\n",
    "summarize_scores('cnn', score_CNN, scores_CNN)"
   ]
  },
  {
   "cell_type": "markdown",
   "metadata": {},
   "source": [
    "slope, intercept, r_value, p_value, std_err = stats.linregress(test_x[7:, 6, 0], prediction_CNN[:, 6])\n",
    "print(slope, intercept, r_value, p_value, std_err)"
   ]
  },
  {
   "cell_type": "code",
   "execution_count": 71,
   "metadata": {},
   "outputs": [
    {
     "data": {
      "text/plain": [
       "(109, 7)"
      ]
     },
     "execution_count": 71,
     "metadata": {},
     "output_type": "execute_result"
    }
   ],
   "source": [
    "prediction_CNN.shape"
   ]
  },
  {
   "cell_type": "code",
   "execution_count": 72,
   "metadata": {},
   "outputs": [],
   "source": [
    "np.savetxt('prediction_CNN.csv', prediction_CNN, fmt='%1.6f', delimiter=',')"
   ]
  },
  {
   "cell_type": "code",
   "execution_count": 73,
   "metadata": {},
   "outputs": [],
   "source": [
    "doy = range(139,248)\n",
    "actual = test[6:-1]"
   ]
  },
  {
   "cell_type": "code",
   "execution_count": 74,
   "metadata": {},
   "outputs": [
    {
     "data": {
      "image/png": "[encoded data removed]",
      "text/plain": [
       "<Figure size 720x288 with 1 Axes>"
      ]
     },
     "metadata": {
      "needs_background": "light"
     },
     "output_type": "display_data"
    }
   ],
   "source": [
    "plt.figure(figsize=(10,4))\n",
    "plt.plot(doy,actual, label='Actual')\n",
    "CNN = prediction_CNN [:,6]\n",
    "plt.plot(doy,actual, doy, CNN)\n",
    "plt.title(\"CNN\", fontsize=14)\n",
    "plt.xlabel('Day of Year (2019)',fontsize=14)\n",
    "plt.ylabel('Algal Biomass',fontsize=14)\n",
    "plt.show()"
   ]
  },
  {
   "cell_type": "markdown",
   "metadata": {},
   "source": [
    "### CNN multi-step forecasting (T)"
   ]
  },
  {
   "cell_type": "code",
   "execution_count": 75,
   "metadata": {},
   "outputs": [],
   "source": [
    "# evaluate model and get scores\n",
    "n_input = 7\n",
    "score_CNN_T, scores_CNN_T, prediction_CNN_T= evaluate_model_CNN(train, test_T, n_input)"
   ]
  },
  {
   "cell_type": "code",
   "execution_count": 76,
   "metadata": {},
   "outputs": [
    {
     "name": "stdout",
     "output_type": "stream",
     "text": [
      "cnn_T: [8.980] 4.4, 6.0, 7.1, 8.7, 9.9, 11.5, 13.0\n"
     ]
    }
   ],
   "source": [
    "# summarize scores\n",
    "summarize_scores('cnn_T', score_CNN_T, scores_CNN_T)"
   ]
  },
  {
   "cell_type": "code",
   "execution_count": 77,
   "metadata": {},
   "outputs": [
    {
     "data": {
      "image/png": "[encoded data removed]",
      "text/plain": [
       "<Figure size 720x288 with 1 Axes>"
      ]
     },
     "metadata": {
      "needs_background": "light"
     },
     "output_type": "display_data"
    }
   ],
   "source": [
    "doy_T = range(1,100)\n",
    "actual_T = test_T[6:-1]\n",
    "plt.figure(figsize=(10,4))\n",
    "plt.plot(doy_T,actual_T, label='Actual')\n",
    "CNN_T = prediction_CNN_T [:,6]\n",
    "plt.plot(doy_T,actual_T, doy_T, CNN_T)\n",
    "plt.title(\"CNN_T\", fontsize=14)\n",
    "plt.xlabel('Day of Year (2019)',fontsize=14)\n",
    "plt.ylabel('Algal Biomass',fontsize=14)\n",
    "plt.show()"
   ]
  },
  {
   "cell_type": "markdown",
   "metadata": {},
   "source": [
    "# LSTM Univariate"
   ]
  },
  {
   "cell_type": "code",
   "execution_count": 78,
   "metadata": {},
   "outputs": [],
   "source": [
    "from keras.layers import LSTM"
   ]
  },
  {
   "cell_type": "code",
   "execution_count": 79,
   "metadata": {},
   "outputs": [],
   "source": [
    "# train the model\n",
    "def build_model_LSTM(train, n_input):\n",
    "    # prepare data\n",
    "    train_x, train_y = to_supervised(train, n_input)\n",
    "    # define parameters\n",
    "    verbose, epochs, batch_size = 0, 50, 16\n",
    "    n_timesteps, n_features, n_outputs = train_x.shape[1], train_x.shape[2], train_y.shape[1]\n",
    "    # define model\n",
    "    model = Sequential()\n",
    "    model.add(LSTM(200, activation='relu', input_shape=(n_timesteps, n_features)))\n",
    "    model.add(Dense(100, activation='relu'))\n",
    "    model.add(Dense(n_outputs))\n",
    "    model.compile(loss='mse', optimizer='adam')\n",
    "    # fit network\n",
    "    model.fit(train_x, train_y, epochs=epochs, batch_size=batch_size, verbose=verbose)\n",
    "    return model"
   ]
  },
  {
   "cell_type": "code",
   "execution_count": 80,
   "metadata": {},
   "outputs": [],
   "source": [
    "# evaluate a single model\n",
    "def evaluate_model_LSTM(train, test, n_input):\n",
    "    # fit model\n",
    "    model = build_model_LSTM(train, n_input)\n",
    "    # history is a list of weekly data\n",
    "    history = [x for x in train]\n",
    "    # walk-forward validation over each week\n",
    "    predictions = list()\n",
    "    for i in range(len(test)-7):\n",
    "        # predict the week\n",
    "        yhat_sequence = forecast(model, history, n_input)\n",
    "        # store the predictions\n",
    "        predictions.append(yhat_sequence)\n",
    "        # get real observation and add to history for predicting the next week\n",
    "        history.append(test[i, :])\n",
    "    # evaluate predictions days for each week\n",
    "    predictions = array(predictions)\n",
    "    test_x, test_y= to_supervised(test, 7, 1)\n",
    "    score, scores = evaluate_forecasts_Naive(test_x[:, :], predictions)\n",
    "    return score, scores, predictions"
   ]
  },
  {
   "cell_type": "code",
   "execution_count": 81,
   "metadata": {},
   "outputs": [
    {
     "name": "stdout",
     "output_type": "stream",
     "text": [
      "lstm: [6.863] 4.3, 5.5, 6.4, 7.1, 7.7, 7.9, 8.2\n"
     ]
    }
   ],
   "source": [
    "# evaluate model and get scores\n",
    "n_input = 7\n",
    "score_LSTM, scores_LSTM, predictions_LSTM = evaluate_model_LSTM(train, test, n_input)\n",
    "# summarize scores\n",
    "summarize_scores('lstm', score_LSTM, scores_LSTM)"
   ]
  },
  {
   "cell_type": "code",
   "execution_count": 82,
   "metadata": {},
   "outputs": [],
   "source": [
    "np.savetxt('predictions_LSTM.csv', predictions_LSTM,fmt='%1.6f', delimiter=',')"
   ]
  },
  {
   "cell_type": "code",
   "execution_count": 83,
   "metadata": {},
   "outputs": [
    {
     "data": {
      "image/png": "[encoded data removed]",
      "text/plain": [
       "<Figure size 720x288 with 1 Axes>"
      ]
     },
     "metadata": {
      "needs_background": "light"
     },
     "output_type": "display_data"
    }
   ],
   "source": [
    "plt.figure(figsize=(10,4))\n",
    "plt.plot(doy,actual, label='Actual')\n",
    "LSTM = predictions_LSTM [:,6]\n",
    "plt.plot(doy,actual, doy, LSTM)\n",
    "plt.title(\"LSTM\", fontsize=14)\n",
    "plt.xlabel('Day of Year (2019)',fontsize=14)\n",
    "plt.ylabel('Algal Biomass',fontsize=14)\n",
    "plt.show()"
   ]
  },
  {
   "cell_type": "markdown",
   "metadata": {},
   "source": [
    "### LSTM forecasting (T)"
   ]
  },
  {
   "cell_type": "code",
   "execution_count": 84,
   "metadata": {},
   "outputs": [],
   "source": [
    "from keras.layers import LSTM"
   ]
  },
  {
   "cell_type": "code",
   "execution_count": 85,
   "metadata": {},
   "outputs": [],
   "source": [
    "# evaluate model and get scores\n",
    "n_input = 7\n",
    "score_LSTM_T, scores_LSTM_T, prediction_LSTM_T= evaluate_model_LSTM(train, test_T, n_input)"
   ]
  },
  {
   "cell_type": "code",
   "execution_count": 86,
   "metadata": {},
   "outputs": [
    {
     "name": "stdout",
     "output_type": "stream",
     "text": [
      "LSTM_T: [13.547] 4.4, 6.0, 7.1, 8.7, 9.9, 11.5, 13.0\n"
     ]
    }
   ],
   "source": [
    "# summarize scores\n",
    "summarize_scores('LSTM_T', score_LSTM_T, scores_CNN_T)"
   ]
  },
  {
   "cell_type": "code",
   "execution_count": 87,
   "metadata": {},
   "outputs": [
    {
     "data": {
      "image/png": "[encoded data removed]",
      "text/plain": [
       "<Figure size 720x288 with 1 Axes>"
      ]
     },
     "metadata": {
      "needs_background": "light"
     },
     "output_type": "display_data"
    }
   ],
   "source": [
    "doy_T = range(1,100)\n",
    "actual_T = test_T[6:-1]\n",
    "plt.figure(figsize=(10,4))\n",
    "plt.plot(doy_T,actual_T, label='Actual')\n",
    "LSTM_T = prediction_LSTM_T [:,6]\n",
    "plt.plot(doy_T,actual_T, doy_T, LSTM_T)\n",
    "plt.title(\"LSTM_T\", fontsize=14)\n",
    "plt.xlabel('Day of Year (2019)',fontsize=14)\n",
    "plt.ylabel('Algal Biomass',fontsize=14)\n",
    "plt.show()"
   ]
  },
  {
   "cell_type": "markdown",
   "metadata": {},
   "source": [
    "## Encoder- Decoder LSTM with univariate input"
   ]
  },
  {
   "cell_type": "code",
   "execution_count": 88,
   "metadata": {},
   "outputs": [],
   "source": [
    "from keras.layers import LSTM"
   ]
  },
  {
   "cell_type": "code",
   "execution_count": 89,
   "metadata": {},
   "outputs": [],
   "source": [
    "from keras.layers import RepeatVector\n",
    "from keras.layers import TimeDistributed"
   ]
  },
  {
   "cell_type": "code",
   "execution_count": 90,
   "metadata": {},
   "outputs": [],
   "source": [
    "# train the model\n",
    "def build_model_LSTM_EnDe(train, n_input):\n",
    "    # prepare data\n",
    "    train_x, train_y = to_supervised(train, n_input)\n",
    "    # define parameters\n",
    "    verbose, epochs, batch_size = 0, 50, 16\n",
    "    n_timesteps, n_features, n_outputs = train_x.shape[1], train_x.shape[2], train_y.shape[1]\n",
    "    # reshape output into [samples, timesteps, features]\n",
    "    train_y = train_y.reshape((train_y.shape[0], train_y.shape[1], 1))\n",
    "    # define model\n",
    "    model = Sequential()\n",
    "    model.add(LSTM(200, activation='relu', input_shape=(n_timesteps, n_features)))\n",
    "    model.add(RepeatVector(n_outputs))\n",
    "    model.add(LSTM(200, activation='relu', return_sequences=True))\n",
    "    model.add(TimeDistributed(Dense(100, activation='relu')))\n",
    "    model.add(TimeDistributed(Dense(1)))\n",
    "    model.compile(loss='mse', optimizer='adam')\n",
    "    # fit network\n",
    "    model.fit(train_x, train_y, epochs=epochs, batch_size=batch_size, verbose=verbose)\n",
    "    return model"
   ]
  },
  {
   "cell_type": "code",
   "execution_count": 91,
   "metadata": {},
   "outputs": [],
   "source": [
    "# evaluate a single model\n",
    "def evaluate_model_LSTM_EnDe(train, test, n_input):\n",
    "    # fit model\n",
    "    model = build_model_LSTM_EnDe(train, n_input)\n",
    "    # history is a list of weekly data\n",
    "    history = [x for x in train]\n",
    "    # walk-forward validation over each week\n",
    "    predictions = list()\n",
    "    for i in range(len(test)-7):\n",
    "        # predict the week\n",
    "        yhat_sequence = forecast(model, history, n_input)\n",
    "        # store the predictions\n",
    "        predictions.append(yhat_sequence)\n",
    "        # get real observation and add to history for predicting the next week\n",
    "        history.append(test[i, :])\n",
    "    # evaluate predictions days for each week\n",
    "    predictions = array(predictions)\n",
    "    test_x, test_y= to_supervised(test, 7, 1)\n",
    "    score, scores = evaluate_forecasts_Naive(test_x[:, :], predictions)\n",
    "    return score, scores, predictions"
   ]
  },
  {
   "cell_type": "code",
   "execution_count": 92,
   "metadata": {},
   "outputs": [
    {
     "name": "stdout",
     "output_type": "stream",
     "text": [
      "lstm_EnDe: [6.289] 3.5, 4.8, 6.0, 6.7, 7.0, 7.3, 7.6\n"
     ]
    }
   ],
   "source": [
    "# evaluate model and get scores\n",
    "n_input = 7\n",
    "score_LSTM_EnDe, scores_LSTM_EnDe, predictions_LSTM_EnDe = evaluate_model_LSTM_EnDe(train, test, n_input)\n",
    "# summarize scores\n",
    "summarize_scores('lstm_EnDe', score_LSTM_EnDe, scores_LSTM_EnDe)"
   ]
  },
  {
   "cell_type": "code",
   "execution_count": 93,
   "metadata": {},
   "outputs": [],
   "source": [
    "predictions_LSTM_EnDe= predictions_LSTM_EnDe.reshape(predictions_LSTM_EnDe.shape[0], predictions_LSTM_EnDe.shape[1])"
   ]
  },
  {
   "cell_type": "code",
   "execution_count": 94,
   "metadata": {},
   "outputs": [],
   "source": [
    "np.savetxt('predictions_LSTM_EnDe.csv', predictions_LSTM_EnDe, fmt='%1.6f', delimiter=',')"
   ]
  },
  {
   "cell_type": "code",
   "execution_count": 95,
   "metadata": {},
   "outputs": [
    {
     "data": {
      "image/png": "[encoded data removed]",
      "text/plain": [
       "<Figure size 720x288 with 1 Axes>"
      ]
     },
     "metadata": {
      "needs_background": "light"
     },
     "output_type": "display_data"
    }
   ],
   "source": [
    "plt.figure(figsize=(10,4))\n",
    "plt.plot(doy,actual, label='Actual')\n",
    "LSTM_ENDE = predictions_LSTM_EnDe [:,6]\n",
    "plt.plot(doy,actual, doy, LSTM_ENDE)\n",
    "plt.title(\"LSTM_ENDE\", fontsize=14)\n",
    "plt.xlabel('Day of Year (2019)',fontsize=14)\n",
    "plt.ylabel('Algal Biomass',fontsize=14)\n",
    "plt.show()"
   ]
  },
  {
   "cell_type": "markdown",
   "metadata": {},
   "source": [
    "## Encoder- Decoder LSTM with univariate input(T)"
   ]
  },
  {
   "cell_type": "code",
   "execution_count": 96,
   "metadata": {},
   "outputs": [
    {
     "name": "stdout",
     "output_type": "stream",
     "text": [
      "lstm_EnDe_T: [13.767] 8.9, 11.1, 12.6, 13.9, 14.8, 16.1, 17.2\n"
     ]
    }
   ],
   "source": [
    "# evaluate model and get scores\n",
    "n_input = 7\n",
    "score_LSTM_EnDe_T, scores_LSTM_EnDe_T, predictions_LSTM_EnDe_T = evaluate_model_LSTM_EnDe(train, test_T, n_input)\n",
    "# summarize scores\n",
    "summarize_scores('lstm_EnDe_T', score_LSTM_EnDe_T, scores_LSTM_EnDe_T)"
   ]
  },
  {
   "cell_type": "code",
   "execution_count": 97,
   "metadata": {},
   "outputs": [],
   "source": [
    "predictions_LSTM_EnDe_T= predictions_LSTM_EnDe_T.reshape(predictions_LSTM_EnDe_T.shape[0], predictions_LSTM_EnDe_T.shape[1])"
   ]
  },
  {
   "cell_type": "code",
   "execution_count": 98,
   "metadata": {},
   "outputs": [
    {
     "data": {
      "image/png": "[encoded data removed]",
      "text/plain": [
       "<Figure size 720x288 with 1 Axes>"
      ]
     },
     "metadata": {
      "needs_background": "light"
     },
     "output_type": "display_data"
    }
   ],
   "source": [
    "plt.figure(figsize=(10,4))\n",
    "plt.plot(doy_T,actual_T, label='Actual')\n",
    "LSTM_ENDE_T = predictions_LSTM_EnDe_T [:,6]\n",
    "plt.plot(doy_T,actual_T, doy_T, LSTM_ENDE_T)\n",
    "plt.title(\"LSTM_ENDE_T\", fontsize=14)\n",
    "plt.xlabel('Day of Year (2019)',fontsize=14)\n",
    "plt.ylabel('Algal Biomass',fontsize=14)\n",
    "plt.show()"
   ]
  },
  {
   "cell_type": "markdown",
   "metadata": {},
   "source": [
    "# MLP Multi-step"
   ]
  },
  {
   "cell_type": "code",
   "execution_count": 99,
   "metadata": {},
   "outputs": [],
   "source": [
    "# convert history into inputs and outputs\n",
    "def to_supervised_MLP(train, n_input, n_out=7):\n",
    "\t# flatten data\n",
    "\tdata = train.reshape((train.shape[0]*train.shape[1]))\n",
    "\tX, y = list(), list()\n",
    "\tin_start = 0\n",
    "\t# step over the entire history one time step at a time\n",
    "\tfor _ in range(len(data)):\n",
    "\t\t# define the end of the input sequence\n",
    "\t\tin_end = in_start + n_input\n",
    "\t\tout_end = in_end + n_out\n",
    "\t\t# ensure we have enough data for this instance\n",
    "\t\tif out_end <= len(data):\n",
    "\t\t\tx_input = data[in_start:in_end]\n",
    "\t\t\tX.append(x_input)\n",
    "\t\t\ty.append(data[in_end:out_end])\n",
    "\t\t# move along one time step\n",
    "\t\tin_start += 1\n",
    "\treturn array(X), array(y)"
   ]
  },
  {
   "cell_type": "code",
   "execution_count": 100,
   "metadata": {},
   "outputs": [],
   "source": [
    "# train the model\n",
    "def build_model_MLP(train, config):\n",
    "    # prepare data\n",
    "    n_input, n_nodes, n_epochs, n_batch = config\n",
    "    train_x, train_y = to_supervised_MLP(train, n_input)\n",
    "    # define parameters\n",
    "    n_timesteps, n_outputs = train_x.shape[1], train_y.shape[1]\n",
    "    # define model\n",
    "    model = Sequential()\n",
    "    model.add(Dense(n_nodes, activation='relu', input_dim=n_input))\n",
    "    model.add(Dense(n_outputs))\n",
    "    model.compile(loss='mse', optimizer='adam')\n",
    "    # fit network\n",
    "    model.fit(train_x, train_y, epochs=n_epochs, batch_size=n_batch, verbose=0)\n",
    "    return model"
   ]
  },
  {
   "cell_type": "code",
   "execution_count": 101,
   "metadata": {},
   "outputs": [],
   "source": [
    "# make a forecast\n",
    "def forecast_MLP(model, history, n_input):\n",
    "\t# flatten data\n",
    "\tdata = array(history)\n",
    "\t#data = data.reshape((data.shape[0]*data.shape[1]))\n",
    "\t# retrieve last observations for input data\n",
    "\tinput_x = data[-n_input:]\n",
    "\t# reshape into [1, n_input, 1]\n",
    "\tinput_x = input_x.reshape((1, len(input_x)))\n",
    "\t# forecast the next week\n",
    "\tyhat = model.predict(input_x, verbose=0)\n",
    "\t# we only want the vector forecast\n",
    "\tyhat = yhat[0]\n",
    "\treturn yhat"
   ]
  },
  {
   "cell_type": "code",
   "execution_count": 102,
   "metadata": {},
   "outputs": [],
   "source": [
    "# evaluate a single model\n",
    "def evaluate_model_MLP(train, test, n_input):\n",
    "    # fit model\n",
    "    model = build_model_MLP(train, config)\n",
    "    # history is a list of weekly data\n",
    "    history = [x for x in train]\n",
    "    # walk-forward validation over each week\n",
    "    predictions = list()\n",
    "    for i in range(len(test)-7):\n",
    "        # predict the week\n",
    "        yhat_sequence = forecast_MLP(model, history, n_input)\n",
    "        # store the predictions\n",
    "        predictions.append(yhat_sequence)\n",
    "        # get real observation and add to history for predicting the next week\n",
    "        history.append(test[i, :])\n",
    "    # evaluate predictions days for each week\n",
    "    predictions = array(predictions)\n",
    "    test_x, test_y= to_supervised(test, 7, 1)\n",
    "    score, scores = evaluate_forecasts(test_x[:,:], predictions)\n",
    "    return score, scores, predictions"
   ]
  },
  {
   "cell_type": "code",
   "execution_count": 103,
   "metadata": {},
   "outputs": [
    {
     "name": "stdout",
     "output_type": "stream",
     "text": [
      "MLP: [7.056] 3.1, 4.6, 6.1, 7.3, 8.5, 9.2, 9.7\n"
     ]
    }
   ],
   "source": [
    "# evaluate model and get scores\n",
    "config = [7, 50, 50, 4]\n",
    "score_MLP, scores_MLP, predictions_MLP = evaluate_model_MLP(train, test, n_input)\n",
    "# summarize scores\n",
    "summarize_scores('MLP', score_MLP, scores_MLP)"
   ]
  },
  {
   "cell_type": "code",
   "execution_count": 104,
   "metadata": {},
   "outputs": [],
   "source": [
    "np.savetxt('predictions_MLP.csv', predictions_MLP, fmt='%1.6f', delimiter=',')"
   ]
  },
  {
   "cell_type": "code",
   "execution_count": 105,
   "metadata": {},
   "outputs": [
    {
     "data": {
      "image/png": "[encoded data removed]",
      "text/plain": [
       "<Figure size 720x288 with 1 Axes>"
      ]
     },
     "metadata": {
      "needs_background": "light"
     },
     "output_type": "display_data"
    }
   ],
   "source": [
    "plt.figure(figsize=(10,4))\n",
    "plt.plot(doy,actual, label='Actual')\n",
    "MLP = predictions_MLP [:,6]\n",
    "plt.plot(doy,actual, doy, MLP)\n",
    "plt.title(\"MLP\", fontsize=14)\n",
    "plt.xlabel('Day of Year (2019)',fontsize=14)\n",
    "plt.ylabel('Algal Biomass',fontsize=14)\n",
    "plt.show()"
   ]
  },
  {
   "cell_type": "markdown",
   "metadata": {},
   "source": [
    "## CNN-LSTM Encoder-Decoder With Univariate Input"
   ]
  },
  {
   "cell_type": "code",
   "execution_count": 106,
   "metadata": {},
   "outputs": [],
   "source": [
    "# train the model\n",
    "def build_model_hybrid(train, n_input):\n",
    "    # prepare data\n",
    "    train_x, train_y = to_supervised(train, n_input)\n",
    "    # define parameters\n",
    "    verbose, epochs, batch_size = 0, 50, 16\n",
    "    n_timesteps, n_features, n_outputs = train_x.shape[1], train_x.shape[2], train_y.shape[1]\n",
    "    # reshape output into [samples, timesteps, features]\n",
    "    train_y = train_y.reshape((train_y.shape[0], train_y.shape[1], 1))\n",
    "    # define model\n",
    "    model = Sequential()\n",
    "    model.add(Conv1D(64, 2, activation='relu', input_shape=(n_timesteps,n_features)))\n",
    "    model.add(Conv1D(64, 2, activation='relu'))\n",
    "    model.add(MaxPooling1D())\n",
    "    model.add(Flatten())\n",
    "    model.add(RepeatVector(n_outputs))\n",
    "    model.add(LSTM(200, activation='relu', return_sequences=True))\n",
    "    model.add(TimeDistributed(Dense(100, activation='relu')))\n",
    "    model.add(TimeDistributed(Dense(1)))\n",
    "    model.compile(loss='mse', optimizer='adam')\n",
    "    # fit network\n",
    "    model.fit(train_x, train_y, epochs=epochs, batch_size=batch_size, verbose=verbose)\n",
    "    return model"
   ]
  },
  {
   "cell_type": "code",
   "execution_count": 107,
   "metadata": {},
   "outputs": [],
   "source": [
    "# evaluate a single model\n",
    "def evaluate_model_hybrid(train, test, n_input):\n",
    "\t# fit model\n",
    "\tmodel = build_model_hybrid(train, n_input)\n",
    "\t# history is a list of weekly data\n",
    "\thistory = [x for x in train]\n",
    "\t# walk-forward validation over each week\n",
    "\tpredictions = list()\n",
    "\tfor i in range(len(test)-7):\n",
    "\t\t# predict the week\n",
    "\t\tyhat_sequence = forecast(model, history, n_input)\n",
    "\t\t# store the predictions\n",
    "\t\tpredictions.append(yhat_sequence)\n",
    "\t\t# get real observation and add to history for predicting the next week\n",
    "\t\thistory.append(test[i, :])\n",
    "\t# evaluate predictions days for each week\n",
    "\tpredictions = array(predictions)\n",
    "\ttest_x, test_y= to_supervised(test, 7, 1)    \n",
    "\tscore, scores = evaluate_forecasts(test_x[:, :, 0], predictions)\n",
    "\treturn score, scores, predictions"
   ]
  },
  {
   "cell_type": "code",
   "execution_count": 108,
   "metadata": {},
   "outputs": [],
   "source": [
    "# evaluate model and get scores\n",
    "n_input = 7\n",
    "score, scores_hybrid, predictions_hybrid = evaluate_model_hybrid(train, test, n_input)"
   ]
  },
  {
   "cell_type": "code",
   "execution_count": 109,
   "metadata": {},
   "outputs": [
    {
     "name": "stdout",
     "output_type": "stream",
     "text": [
      "cnn_hybrid: [6.771] 4.7, 5.8, 6.8, 7.3, 7.5, 7.8, 8.5\n"
     ]
    }
   ],
   "source": [
    "# summarize scores\n",
    "summarize_scores('cnn_hybrid', score, scores_hybrid)"
   ]
  },
  {
   "cell_type": "code",
   "execution_count": 110,
   "metadata": {},
   "outputs": [],
   "source": [
    "predictions_hybrid= predictions_hybrid.reshape(predictions_hybrid.shape[0], predictions_hybrid.shape[1])"
   ]
  },
  {
   "cell_type": "code",
   "execution_count": 111,
   "metadata": {},
   "outputs": [],
   "source": [
    "np.savetxt('predictions_hybrid.csv', predictions_hybrid, fmt='%1.6f', delimiter=',')"
   ]
  },
  {
   "cell_type": "code",
   "execution_count": 112,
   "metadata": {},
   "outputs": [
    {
     "data": {
      "image/png": "[encoded data removed]",
      "text/plain": [
       "<Figure size 720x288 with 1 Axes>"
      ]
     },
     "metadata": {
      "needs_background": "light"
     },
     "output_type": "display_data"
    }
   ],
   "source": [
    "plt.figure(figsize=(10,4))\n",
    "plt.plot(doy,actual, label='Actual')\n",
    "cnn_hybrid = predictions_hybrid [:,6]\n",
    "plt.plot(doy,actual, doy, cnn_hybrid)\n",
    "plt.title(\"MLP\", fontsize=14)\n",
    "plt.xlabel('Day of Year (2019)',fontsize=14)\n",
    "plt.ylabel('Algal Biomass',fontsize=14)\n",
    "plt.show()"
   ]
  },
  {
   "cell_type": "markdown",
   "metadata": {},
   "source": [
    "## ConvLSTM Encoder-Decoder With Univariate Input"
   ]
  },
  {
   "cell_type": "code",
   "execution_count": 113,
   "metadata": {},
   "outputs": [],
   "source": [
    "from math import sqrt\n",
    "from numpy import split\n",
    "from numpy import array\n",
    "from pandas import read_csv\n",
    "from sklearn.metrics import mean_squared_error\n",
    "from matplotlib import pyplot\n",
    "from keras.models import Sequential\n",
    "from keras.layers import Dense\n",
    "from keras.layers import Flatten\n",
    "from keras.layers import LSTM\n",
    "from keras.layers import RepeatVector\n",
    "from keras.layers import TimeDistributed\n",
    "from keras.layers import ConvLSTM2D"
   ]
  },
  {
   "cell_type": "code",
   "execution_count": 114,
   "metadata": {},
   "outputs": [],
   "source": [
    "# train the model\n",
    "def build_model_convLSTM(train, n_steps, n_length, n_input):\n",
    "    # prepare data\n",
    "    train_x, train_y = to_supervised(train, n_input)\n",
    "    # define parameters\n",
    "    verbose, epochs, batch_size = 0, 20, 16\n",
    "    n_features, n_outputs = train_x.shape[2], train_y.shape[1]\n",
    "    # reshape into subsequences [samples, timesteps, rows, cols, channels]\n",
    "    train_x = train_x.reshape((train_x.shape[0], n_steps, 1, n_length, n_features))\n",
    "    # reshape output into [samples, timesteps, features]\n",
    "    train_y = train_y.reshape((train_y.shape[0], train_y.shape[1], 1))\n",
    "    # define model\n",
    "    model = Sequential()\n",
    "    model.add(ConvLSTM2D(64, (1,3), activation='relu', input_shape=(n_steps, 1, n_length,\n",
    "    n_features)))\n",
    "    model.add(Flatten())\n",
    "    model.add(RepeatVector(n_outputs))\n",
    "    model.add(LSTM(200, activation='relu', return_sequences=True))\n",
    "    model.add(TimeDistributed(Dense(100, activation='relu')))\n",
    "    model.add(TimeDistributed(Dense(1)))\n",
    "    model.compile(loss='mse', optimizer='adam')\n",
    "    # fit network\n",
    "    model.fit(train_x, train_y, epochs=epochs, batch_size=batch_size, verbose=verbose)\n",
    "    return model"
   ]
  },
  {
   "cell_type": "code",
   "execution_count": 115,
   "metadata": {},
   "outputs": [],
   "source": [
    "# make a forecast\n",
    "def forecast_convLSTM(model, history, n_steps, n_length, n_input):\n",
    "    # flatten data\n",
    "    data = array(history)\n",
    "    #data = data.reshape((data.shape[0]*data.shape[1], data.shape[2]))\n",
    "    # retrieve last observations for input data\n",
    "    input_x = data[-n_input:, 0]\n",
    "    # reshape into [samples, timesteps, rows, cols, channels]\n",
    "    input_x = input_x.reshape((1, n_steps, 1, n_length, 1))\n",
    "    # forecast the next week\n",
    "    yhat = model.predict(input_x, verbose=0)\n",
    "    # we only want the vector forecast\n",
    "    yhat = yhat[0]\n",
    "    return yhat"
   ]
  },
  {
   "cell_type": "code",
   "execution_count": 116,
   "metadata": {},
   "outputs": [],
   "source": [
    "# evaluate a single model\n",
    "def evaluate_model_conLSTM(train, test, n_steps, n_length, n_input):\n",
    "    # fit model\n",
    "    model = build_model_convLSTM(train, n_steps, n_length, n_input)\n",
    "    # history is a list of weekly data\n",
    "    history = [x for x in train]\n",
    "    # walk-forward validation over each week\n",
    "    predictions = list()\n",
    "    for i in range(len(test)-7):\n",
    "        # predict the week\n",
    "        yhat_sequence = forecast_convLSTM(model, history, n_steps, n_length, n_input)\n",
    "        # store the predictions\n",
    "        predictions.append(yhat_sequence)\n",
    "        # get real observation and add to history for predicting the next week\n",
    "        history.append(test[i, :])\n",
    "    # evaluate predictions days for each week\n",
    "    predictions = array(predictions)\n",
    "    test_x, test_y= to_supervised(test, 7, 1)  \n",
    "    score, scores = evaluate_forecasts(test_x[:,:,0], predictions)\n",
    "    return score, scores, predictions"
   ]
  },
  {
   "cell_type": "code",
   "execution_count": 117,
   "metadata": {},
   "outputs": [
    {
     "name": "stdout",
     "output_type": "stream",
     "text": [
      "convLSTM: [6.261] 3.2, 4.4, 5.5, 6.6, 7.4, 8.0, 8.4\n"
     ]
    }
   ],
   "source": [
    "# define the number of subsequences and the length of subsequences\n",
    "n_steps, n_length = 2, 3\n",
    "# define the total days to use as input\n",
    "n_input = n_length * n_steps\n",
    "score_convLSTM, scores_convLSTM, predictions_convLSTM = evaluate_model_conLSTM(train, test, n_steps, n_length, n_input)\n",
    "# summarize scores\n",
    "summarize_scores('convLSTM', score_convLSTM, scores_convLSTM)"
   ]
  },
  {
   "cell_type": "code",
   "execution_count": 118,
   "metadata": {},
   "outputs": [],
   "source": [
    "predictions_convLSTM= predictions_convLSTM.reshape(predictions_convLSTM.shape[0], predictions_convLSTM.shape[1])"
   ]
  },
  {
   "cell_type": "code",
   "execution_count": 119,
   "metadata": {},
   "outputs": [],
   "source": [
    "np.savetxt('predictions_convLSTM.csv', predictions_convLSTM, fmt='%1.6f', delimiter=',')"
   ]
  },
  {
   "cell_type": "code",
   "execution_count": 120,
   "metadata": {},
   "outputs": [
    {
     "data": {
      "image/png": "[encoded data removed]",
      "text/plain": [
       "<Figure size 720x288 with 1 Axes>"
      ]
     },
     "metadata": {
      "needs_background": "light"
     },
     "output_type": "display_data"
    }
   ],
   "source": [
    "plt.figure(figsize=(10,4))\n",
    "plt.plot(doy,actual, label='Actual')\n",
    "convLSTM = predictions_convLSTM [:,6]\n",
    "plt.plot(doy,actual, doy, convLSTM)\n",
    "plt.title(\"MLP\", fontsize=14)\n",
    "plt.xlabel('Day of Year (2019)',fontsize=14)\n",
    "plt.ylabel('Algal Biomass',fontsize=14)\n",
    "plt.show()"
   ]
  },
  {
   "cell_type": "markdown",
   "metadata": {},
   "source": [
    "# Multi-variate"
   ]
  },
  {
   "cell_type": "markdown",
   "metadata": {},
   "source": [
    "## CNN multi-channel"
   ]
  },
  {
   "cell_type": "code",
   "execution_count": 274,
   "metadata": {},
   "outputs": [],
   "source": [
    "# load the new file\n",
    "dataset = read_csv('/Volumes/GoogleDrive/My Drive/UVa/Spring2019/Presidential Fellowship/BloomForecasting/Data/Raw/ExperimentalLakes/ExperimentalLakes_Data_withColorNormalizedCumulativePloading.csv', header=0, infer_datetime_format=True, parse_dates=['date'], index_col=['date'])\n"
   ]
  },
  {
   "cell_type": "code",
   "execution_count": 332,
   "metadata": {},
   "outputs": [],
   "source": [
    "def data_prep_multi(dataset, lake):\n",
    "    ex=dataset[dataset.lake==lake]\n",
    "    ex = ex.dropna(subset=[\"chl\"])\n",
    "    ex.zmix_hf = ex.zmix_hf.fillna(ex.zmix_daily)\n",
    "    ex.temp_zmix_hf = ex.temp_zmix_hf.fillna(ex.temp_zmix_daily) \n",
    "    ex = ex.interpolate()\n",
    "    #ex = ex.drop([\"lake\",'zmix_daily','temp_zmix_daily', 'windDir_mean', 'dosat','doy','temp_Sonde','airTemp_mean','WindGust_mean','N_mg_m2_day','pH','DOconc','Zmix_hfAve','PAR_mean','windspd_mean' ], axis=1)\n",
    "    #ex[\"cum_p\"]=ex.groupby(['year'])['p_loading'].cumsum(axis=0)\n",
    "    cols = ['chl']  + ['temp_zmix_hf']+['p_cumul_over_color'] \n",
    "    ex = ex[cols]    \n",
    "    return ex"
   ]
  },
  {
   "cell_type": "code",
   "execution_count": 333,
   "metadata": {},
   "outputs": [],
   "source": [
    "ex_R_multi= data_prep_multi(dataset, \"R\")\n",
    "#ex_R_multi=ex_R_multi[:-2]"
   ]
  },
  {
   "cell_type": "code",
   "execution_count": 334,
   "metadata": {},
   "outputs": [],
   "source": [
    "ex_T_multi= data_prep_multi(dataset, \"T\")"
   ]
  },
  {
   "cell_type": "code",
   "execution_count": 335,
   "metadata": {},
   "outputs": [
    {
     "name": "stdout",
     "output_type": "stream",
     "text": [
      "<class 'pandas.core.frame.DataFrame'>\n",
      "DatetimeIndex: 932 entries, 2008-05-15 to 2019-09-05\n",
      "Data columns (total 3 columns):\n",
      "chl                   932 non-null float64\n",
      "temp_zmix_hf          932 non-null float64\n",
      "p_cumul_over_color    932 non-null float64\n",
      "dtypes: float64(3)\n",
      "memory usage: 29.1 KB\n"
     ]
    }
   ],
   "source": [
    "ex_R_multi.info()"
   ]
  },
  {
   "cell_type": "code",
   "execution_count": 336,
   "metadata": {},
   "outputs": [],
   "source": [
    "#ex_R_multi_nor=(ex_R_multi-ex_R_multi.min())/(ex_R_multi.max()-ex_R_multi.min())*100"
   ]
  },
  {
   "cell_type": "code",
   "execution_count": 337,
   "metadata": {},
   "outputs": [],
   "source": [
    "# split a univariate dataset into train/test sets\n",
    "def split_dataset(data):\n",
    "\t# split into standard weeks\n",
    "\ttrain, test = data[1:816], data[816:]\n",
    "\t# restructure into windows of weekly data\n",
    "\t#train = array(split(train, len(train)/7))\n",
    "\t#test = array(split(test, len(test)/7))\n",
    "\treturn train, test"
   ]
  },
  {
   "cell_type": "code",
   "execution_count": 338,
   "metadata": {},
   "outputs": [],
   "source": [
    "# split a univariate dataset into train/test sets\n",
    "def split_dataset_T(data):\n",
    "\t# split into standard weeks\n",
    "\ttrain, test = data[1:190], data[190:]\n",
    "\t# restructure into windows of weekly data\n",
    "\t#train = array(split(train, len(train)/7))\n",
    "\t#test = array(split(test, len(test)/7))\n",
    "\treturn train, test"
   ]
  },
  {
   "cell_type": "code",
   "execution_count": 339,
   "metadata": {},
   "outputs": [],
   "source": [
    "train_m, test_m= split_dataset(ex_R_multi.values)\n",
    "train_m= train_m.reshape(train_m.shape[0],1, train_m.shape[1])\n",
    "test_m= test_m.reshape(test_m.shape[0], 1, test_m.shape[1])"
   ]
  },
  {
   "cell_type": "code",
   "execution_count": 340,
   "metadata": {},
   "outputs": [],
   "source": [
    "train_m_T, test_m_T= split_dataset_T(ex_T_multi.values)\n",
    "train_m_T= train_m_T.reshape(train_m_T.shape[0],1, train_m_T.shape[1])\n",
    "test_m_T= test_m_T.reshape(test_m_T.shape[0], 1, test_m_T.shape[1])"
   ]
  },
  {
   "cell_type": "code",
   "execution_count": 341,
   "metadata": {},
   "outputs": [],
   "source": [
    "# evaluate one or more weekly forecasts against expected values\n",
    "def evaluate_forecasts(actual, predicted):\n",
    "\tscores = list()\n",
    "\t# calculate an RMSE score for each day\n",
    "\tfor i in range(actual.shape[1]):\n",
    "\t\t# calculate mse\n",
    "\t\tmse = mean_squared_error(actual[:, i], predicted[:, i])\n",
    "\t\t# calculate rmse\n",
    "\t\trmse = sqrt(mse)\n",
    "\t\t# store\n",
    "\t\tscores.append(rmse)\n",
    "\t# calculate overall RMSE\n",
    "\ts = 0\n",
    "\tfor row in range(actual.shape[0]):\n",
    "\t\tfor col in range(actual.shape[1]):\n",
    "\t\t\ts += (actual[row, col] - predicted[row, col])**2\n",
    "\tscore = sqrt(s / (actual.shape[0] * actual.shape[1]))\n",
    "\treturn score, scores"
   ]
  },
  {
   "cell_type": "code",
   "execution_count": 342,
   "metadata": {},
   "outputs": [],
   "source": [
    "# summarize scores\n",
    "def summarize_scores(name, score, scores):\n",
    "\ts_scores = ', '.join(['%.1f' % s for s in scores])\n",
    "\tprint('%s: [%.3f] %s' % (name, score, s_scores))"
   ]
  },
  {
   "cell_type": "code",
   "execution_count": 343,
   "metadata": {},
   "outputs": [],
   "source": [
    "# convert history into inputs and outputs\n",
    "def to_supervised_multi(train_m, n_input, n_out=7):\n",
    "\t# flatten data\n",
    "\tdata = train_m.reshape((train_m.shape[0]*train_m.shape[1], train_m.shape[2]))\n",
    "\tX, y = list(), list()\n",
    "\tin_start = 0\n",
    "\t# step over the entire history one time step at a time\n",
    "\tfor _ in range(len(data)):\n",
    "\t\t# define the end of the input sequence\n",
    "\t\tin_end = in_start + n_input\n",
    "\t\tout_end = in_end + n_out\n",
    "\t\t# ensure we have enough data for this instance\n",
    "\t\tif out_end <= len(data):\n",
    "\t\t\tX.append(data[in_start:in_end, :])\n",
    "\t\t\ty.append(data[in_end:out_end, 0])\n",
    "\t\t# move along one time step\n",
    "\t\tin_start += 1\n",
    "\treturn array(X), array(y)"
   ]
  },
  {
   "cell_type": "code",
   "execution_count": 344,
   "metadata": {},
   "outputs": [],
   "source": [
    "test_x_m, test_y_m = to_supervised_multi(test_m, 7)"
   ]
  },
  {
   "cell_type": "code",
   "execution_count": 345,
   "metadata": {},
   "outputs": [
    {
     "data": {
      "text/plain": [
       "(103, 7, 3)"
      ]
     },
     "execution_count": 345,
     "metadata": {},
     "output_type": "execute_result"
    }
   ],
   "source": [
    "test_x_m.shape"
   ]
  },
  {
   "cell_type": "code",
   "execution_count": 346,
   "metadata": {},
   "outputs": [],
   "source": [
    "# make a forecast\n",
    "def forecast_multi(model, history, n_input):\n",
    "    # flatten data\n",
    "    data = array(history)\n",
    "    data = data.reshape((data.shape[0]*data.shape[1], data.shape[2]))\n",
    "    # retrieve last observations for input data\n",
    "    input_x = data[-n_input:, :]\n",
    "    # reshape into [1, n_input, n]\n",
    "    input_x = input_x.reshape((1, input_x.shape[0], input_x.shape[1]))\n",
    "    # forecast the next week\n",
    "    yhat = model.predict(input_x, verbose=0)\n",
    "    # we only want the vector forecast\n",
    "    yhat = yhat[0]\n",
    "    return yhat"
   ]
  },
  {
   "cell_type": "code",
   "execution_count": 347,
   "metadata": {},
   "outputs": [],
   "source": [
    "# train the model\n",
    "def build_model_CNN_multi(train_m, n_input):\n",
    "\t# prepare data\n",
    "\ttrain_x, train_y = to_supervised_multi(train_m, n_input)\n",
    "\t# define parameters\n",
    "\tverbose, epochs, batch_size = 0, 70,4\n",
    "\tn_timesteps, n_features, n_outputs = train_x.shape[1], train_x.shape[2], train_y.shape[1]\n",
    "\t# define model\n",
    "\tmodel = Sequential()\n",
    "\tmodel.add(Conv1D(128, 2, activation='relu', input_shape=(n_timesteps,n_features), data_format='channels_first'))\n",
    "\tmodel.add(Conv1D(64, 2, activation='relu'))\n",
    "\tmodel.add(MaxPooling1D())\n",
    "\tmodel.add(Conv1D(16, 2, activation='relu'))\n",
    "\tmodel.add(MaxPooling1D())\n",
    "\tmodel.add(Flatten())\n",
    "\tmodel.add(Dense(100, activation='relu'))\n",
    "\tmodel.add(Dense(n_outputs))\n",
    "\tmodel.compile(loss='mse', optimizer='adam')\n",
    "\t# fit network\n",
    "\tmodel.fit(train_x, train_y, epochs=epochs, batch_size=batch_size, verbose=verbose)\n",
    "\treturn model"
   ]
  },
  {
   "cell_type": "code",
   "execution_count": 348,
   "metadata": {},
   "outputs": [],
   "source": [
    "# evaluate a single model\n",
    "def evaluate_model_CNN_multi(train_m, test_m, n_input):\n",
    "\t# fit model\n",
    "\tmodel = build_model_CNN_multi(train_m, n_input)\n",
    "\t# history is a list of weekly data\n",
    "\thistory = [x for x in train_m]\n",
    "\t# walk-forward validation over each week\n",
    "\tpredictions = list()\n",
    "\tfor i in range(len(test_m)-7):\n",
    "\t\t# predict the week\n",
    "\t\tyhat_sequence = forecast_multi(model, history, n_input)\n",
    "\t\t# store the predictions\n",
    "\t\tpredictions.append(yhat_sequence)\n",
    "\t\t# get real observation and add to history for predicting the next week\n",
    "\t\thistory.append(test_m[i, :])\n",
    "\t# evaluate predictions days for each week\n",
    "\tpredictions = array(predictions)\n",
    "\ttest_x, test_y= to_supervised_multi(test_m, 7, 1)\n",
    "\tscore, scores = evaluate_forecasts(test_x[:, :, 0], predictions)\n",
    "\treturn score, scores, predictions"
   ]
  },
  {
   "cell_type": "code",
   "execution_count": 349,
   "metadata": {},
   "outputs": [],
   "source": [
    "# evaluate model and get scores\n",
    "n_input =7\n",
    "score, scores_CNN_multi, predictions_CNN_multi = evaluate_model_CNN_multi(train_m, test_m, n_input)"
   ]
  },
  {
   "cell_type": "markdown",
   "metadata": {},
   "source": [
    "r_value_multiCNN= []\n",
    "for i in range(7):\n",
    "    r_value= stats.linregress(test_x_m[:, i, 0], predictions_CNN_multi[:, i])[2]\n",
    "    r_value_multiCNN.append(r_value)"
   ]
  },
  {
   "cell_type": "code",
   "execution_count": 350,
   "metadata": {},
   "outputs": [
    {
     "name": "stdout",
     "output_type": "stream",
     "text": [
      "Multi-channel CNN: [5.556] 3.5, 4.4, 5.0, 5.6, 6.0, 6.4, 7.0\n"
     ]
    }
   ],
   "source": [
    "# summarize scores\n",
    "summarize_scores('Multi-channel CNN', score, scores_CNN_multi)"
   ]
  },
  {
   "cell_type": "code",
   "execution_count": 351,
   "metadata": {},
   "outputs": [
    {
     "data": {
      "text/plain": [
       "(109, 7)"
      ]
     },
     "execution_count": 351,
     "metadata": {},
     "output_type": "execute_result"
    }
   ],
   "source": [
    "predictions_CNN_multi.shape"
   ]
  },
  {
   "cell_type": "markdown",
   "metadata": {},
   "source": [
    "np.savetxt('predictions_CNN_multi_color.csv', predictions_CNN_multi, fmt='%1.6f', delimiter=',')"
   ]
  },
  {
   "cell_type": "code",
   "execution_count": 352,
   "metadata": {},
   "outputs": [
    {
     "data": {
      "image/png": "[encoded data removed]",
      "text/plain": [
       "<Figure size 720x288 with 1 Axes>"
      ]
     },
     "metadata": {
      "needs_background": "light"
     },
     "output_type": "display_data"
    }
   ],
   "source": [
    "plt.figure(figsize=(10,4))\n",
    "plt.plot(doy,actual, label='Actual')\n",
    "CNN_multi = predictions_CNN_multi [:,6]\n",
    "plt.plot(doy,actual, doy, CNN_multi)\n",
    "plt.title(\"CNN_multi\", fontsize=14)\n",
    "plt.xlabel('Day of Year (2019)',fontsize=14)\n",
    "plt.ylabel('Algal Biomass',fontsize=14)\n",
    "plt.show()"
   ]
  },
  {
   "cell_type": "markdown",
   "metadata": {},
   "source": [
    "## CNN multi-channel"
   ]
  },
  {
   "cell_type": "code",
   "execution_count": 357,
   "metadata": {},
   "outputs": [],
   "source": [
    "# evaluate model and get scores\n",
    "n_input = 7\n",
    "score_CNN_multi_T, scores_CNN_multi_T, prediction_CNN_multi_T= evaluate_model_CNN_multi(train_m, train_m_T, n_input)"
   ]
  },
  {
   "cell_type": "code",
   "execution_count": 358,
   "metadata": {},
   "outputs": [
    {
     "name": "stdout",
     "output_type": "stream",
     "text": [
      "cnn_T: [5.917] 3.5, 4.5, 5.2, 6.0, 6.9, 7.0, 7.3\n"
     ]
    }
   ],
   "source": [
    "# summarize scores\n",
    "summarize_scores('cnn_T', score_CNN_multi_T, scores_CNN_multi_T)"
   ]
  },
  {
   "cell_type": "code",
   "execution_count": 359,
   "metadata": {},
   "outputs": [
    {
     "data": {
      "text/plain": [
       "(189, 1, 3)"
      ]
     },
     "execution_count": 359,
     "metadata": {},
     "output_type": "execute_result"
    }
   ],
   "source": [
    "train_m_T.shape"
   ]
  },
  {
   "cell_type": "code",
   "execution_count": 364,
   "metadata": {},
   "outputs": [],
   "source": [
    "actual_T = train_T[6:-1]"
   ]
  },
  {
   "cell_type": "code",
   "execution_count": 365,
   "metadata": {},
   "outputs": [
    {
     "data": {
      "text/plain": [
       "(182, 1)"
      ]
     },
     "execution_count": 365,
     "metadata": {},
     "output_type": "execute_result"
    }
   ],
   "source": [
    "actual_T.shape"
   ]
  },
  {
   "cell_type": "code",
   "execution_count": 368,
   "metadata": {},
   "outputs": [
    {
     "data": {
      "image/png": "[encoded data removed]",
      "text/plain": [
       "<Figure size 1080x288 with 1 Axes>"
      ]
     },
     "metadata": {
      "needs_background": "light"
     },
     "output_type": "display_data"
    }
   ],
   "source": [
    "doy_T = range(1,183)\n",
    "actual_T = train_T[6:-1]\n",
    "plt.figure(figsize=(15,4))\n",
    "plt.plot(doy_T,actual_T, label='Actual')\n",
    "CNN_multi_T = prediction_CNN_multi_T [:,6]\n",
    "plt.plot(doy_T,actual_T, doy_T, CNN_multi_T)\n",
    "plt.title(\"CNN_T\", fontsize=14)\n",
    "plt.xlabel('Day of Year (2019)',fontsize=14)\n",
    "plt.ylabel('Algal Biomass',fontsize=14)\n",
    "plt.show()"
   ]
  },
  {
   "cell_type": "markdown",
   "metadata": {},
   "source": [
    "## Multi-headed CCN"
   ]
  },
  {
   "cell_type": "code",
   "execution_count": 300,
   "metadata": {},
   "outputs": [],
   "source": [
    "from keras.utils.vis_utils import plot_model\n",
    "from keras.layers import Input\n",
    "from keras.layers.merge import concatenate\n",
    "from keras.models import Model"
   ]
  },
  {
   "cell_type": "code",
   "execution_count": 301,
   "metadata": {},
   "outputs": [],
   "source": [
    "# plot training history\n",
    "def plot_history(history):\n",
    "    # plot loss\n",
    "    pyplot.subplot(2, 1, 1)\n",
    "    pyplot.plot(history.history['loss'], label='train')\n",
    "    pyplot.plot(history.history['val_loss'], label='test')\n",
    "    pyplot.title('loss', y=0, loc='center')\n",
    "    pyplot.legend()\n",
    "    # plot rmse\n",
    "    pyplot.subplot(2, 1, 2)\n",
    "    pyplot.plot(history.history['rmse'], label='train')\n",
    "    pyplot.plot(history.history['val_rmse'], label='test')\n",
    "    pyplot.title('rmse', y=0, loc='center')\n",
    "    pyplot.legend()\n",
    "    pyplot.show()"
   ]
  },
  {
   "cell_type": "code",
   "execution_count": 302,
   "metadata": {},
   "outputs": [],
   "source": [
    "# train the model\n",
    "def build_model_multiheaded(train_m, n_input):\n",
    "    # prepare data\n",
    "    train_x, train_y = to_supervised_multi(train_m, n_input)\n",
    "    # define parameters\n",
    "    verbose, epochs, batch_size = 0, 70,4\n",
    "    n_timesteps, n_features, n_outputs = train_x.shape[1], train_x.shape[2], train_y.shape[1]\n",
    "    # create a channel for each variable\n",
    "    in_layers, out_layers = list(), list()\n",
    "    for _ in range(n_features):\n",
    "        inputs = Input(shape=(n_timesteps,1))\n",
    "        conv1 = Conv1D(32, 2, activation='relu')(inputs)\n",
    "        conv2 = Conv1D(32, 2, activation='relu')(conv1)\n",
    "        pool1 = MaxPooling1D()(conv2)\n",
    "        flat = Flatten()(pool1)\n",
    "    # store layers\n",
    "        in_layers.append(inputs)\n",
    "        out_layers.append(flat)\n",
    "    # merge heads\n",
    "    merged = concatenate(out_layers)\n",
    "    # interpretation\n",
    "    dense1 = Dense(100, activation='relu')(merged)\n",
    "    dense2 = Dense(300, activation='relu')(dense1)\n",
    "    outputs = Dense(n_outputs)(dense2)\n",
    "    model = Model(inputs=in_layers, outputs=outputs)\n",
    "    # compile model\n",
    "    model.compile(loss='mse', optimizer='adam')\n",
    "    # plot the model\n",
    "    #plot_model(model, show_shapes=True, to_file='multiheaded_cnn.png')\n",
    "    # fit network\n",
    "    input_data = [train_x[:,:,i].reshape((train_x.shape[0],n_timesteps,1)) for i in range(n_features)]\n",
    "    model.fit(input_data, train_y, epochs=epochs, batch_size=batch_size, verbose=verbose)\n",
    "    return model"
   ]
  },
  {
   "cell_type": "code",
   "execution_count": 303,
   "metadata": {},
   "outputs": [],
   "source": [
    "# make a forecast\n",
    "def forecast_multi_headed(model, history, n_input):\n",
    "    # flatten data\n",
    "    data = array(history)\n",
    "    data = data.reshape((data.shape[0]*data.shape[1], data.shape[2]))\n",
    "    # retrieve last observations for input data\n",
    "    input_x = data[-n_input:, :]\n",
    "    # reshape into n input arrays\n",
    "    input_x = [input_x[:,i].reshape((1,input_x.shape[0],1)) for i in range(input_x.shape[1])]\n",
    "    # forecast the next week\n",
    "    yhat = model.predict(input_x, verbose=0)\n",
    "    # we only want the vector forecast\n",
    "    yhat = yhat[0]\n",
    "    return yhat"
   ]
  },
  {
   "cell_type": "code",
   "execution_count": 304,
   "metadata": {},
   "outputs": [],
   "source": [
    "# evaluate a single model\n",
    "def evaluate_model_multi_headed(train_m, test_m, n_input):\n",
    "    # fit model\n",
    "    model = build_model_multiheaded(train_m, n_input)\n",
    "    # history is a list of weekly data\n",
    "    history = [x for x in train_m]\n",
    "    # walk-forward validation over each week\n",
    "    predictions = list()\n",
    "    for i in range(len(test_m)-7):\n",
    "        # predict the week\n",
    "        yhat_sequence = forecast_multi_headed(model, history, n_input)\n",
    "        # store the predictions\n",
    "        predictions.append(yhat_sequence)\n",
    "        # get real observation and add to history for predicting the next week\n",
    "        history.append(test_m[i, :])\n",
    "    # evaluate predictions days for each week\n",
    "    predictions = array(predictions)\n",
    "    test_x, test_y= to_supervised_multi(test_m, 7, 1)\n",
    "    score, scores = evaluate_forecasts(test_x[:, :, 0], predictions)\n",
    "    return score, scores, predictions"
   ]
  },
  {
   "cell_type": "code",
   "execution_count": 305,
   "metadata": {},
   "outputs": [
    {
     "name": "stdout",
     "output_type": "stream",
     "text": [
      "multi headed_CNN: [7.532] 5.3, 6.6, 7.6, 8.4, 8.3, 8.0, 8.0\n"
     ]
    }
   ],
   "source": [
    "n_input = 7\n",
    "score_multi_headed, scores_multi_headed, predictions_multi_headed = evaluate_model_multi_headed(train_m, test_m, n_input)\n",
    "# summarize scores\n",
    "summarize_scores('multi headed_CNN', score_multi_headed, scores_multi_headed)"
   ]
  },
  {
   "cell_type": "code",
   "execution_count": 306,
   "metadata": {},
   "outputs": [
    {
     "name": "stderr",
     "output_type": "stream",
     "text": [
      "ERROR:root:Internal Python error in the inspect module.\n",
      "Below is the traceback from this internal error.\n",
      "\n"
     ]
    },
    {
     "name": "stdout",
     "output_type": "stream",
     "text": [
      "Traceback (most recent call last):\n",
      "  File \"/Users/nn2tf/anaconda3/lib/python3.7/site-packages/IPython/core/interactiveshell.py\", line 3325, in run_code\n",
      "    exec(code_obj, self.user_global_ns, self.user_ns)\n",
      "  File \"<ipython-input-306-01acbed22142>\", line 1, in <module>\n",
      "    np.savetxt('predictions_multi_headed.csv', predictions_multi_headed,fmt='%1.6f', delimiter=',')\n",
      "  File \"/Users/nn2tf/anaconda3/lib/python3.7/site-packages/numpy/lib/npyio.py\", line 1359, in savetxt\n",
      "    open(fname, 'wt').close()\n",
      "FileNotFoundError: [Errno 2] No such file or directory: 'predictions_multi_headed.csv'\n",
      "\n",
      "During handling of the above exception, another exception occurred:\n",
      "\n",
      "Traceback (most recent call last):\n",
      "  File \"/Users/nn2tf/anaconda3/lib/python3.7/site-packages/IPython/core/interactiveshell.py\", line 2039, in showtraceback\n",
      "    stb = value._render_traceback_()\n",
      "AttributeError: 'FileNotFoundError' object has no attribute '_render_traceback_'\n",
      "\n",
      "During handling of the above exception, another exception occurred:\n",
      "\n",
      "Traceback (most recent call last):\n",
      "  File \"/Users/nn2tf/anaconda3/lib/python3.7/site-packages/IPython/core/ultratb.py\", line 1101, in get_records\n",
      "    return _fixed_getinnerframes(etb, number_of_lines_of_context, tb_offset)\n",
      "  File \"/Users/nn2tf/anaconda3/lib/python3.7/site-packages/IPython/core/ultratb.py\", line 319, in wrapped\n",
      "    return f(*args, **kwargs)\n",
      "  File \"/Users/nn2tf/anaconda3/lib/python3.7/site-packages/IPython/core/ultratb.py\", line 353, in _fixed_getinnerframes\n",
      "    records = fix_frame_records_filenames(inspect.getinnerframes(etb, context))\n",
      "  File \"/Users/nn2tf/anaconda3/lib/python3.7/inspect.py\", line 1502, in getinnerframes\n",
      "    frameinfo = (tb.tb_frame,) + getframeinfo(tb, context)\n",
      "  File \"/Users/nn2tf/anaconda3/lib/python3.7/inspect.py\", line 1460, in getframeinfo\n",
      "    filename = getsourcefile(frame) or getfile(frame)\n",
      "  File \"/Users/nn2tf/anaconda3/lib/python3.7/inspect.py\", line 696, in getsourcefile\n",
      "    if getattr(getmodule(object, filename), '__loader__', None) is not None:\n",
      "  File \"/Users/nn2tf/anaconda3/lib/python3.7/inspect.py\", line 725, in getmodule\n",
      "    file = getabsfile(object, _filename)\n",
      "  File \"/Users/nn2tf/anaconda3/lib/python3.7/inspect.py\", line 709, in getabsfile\n",
      "    return os.path.normcase(os.path.abspath(_filename))\n",
      "  File \"/Users/nn2tf/anaconda3/lib/python3.7/posixpath.py\", line 383, in abspath\n",
      "    cwd = os.getcwd()\n",
      "FileNotFoundError: [Errno 2] No such file or directory\n"
     ]
    },
    {
     "ename": "FileNotFoundError",
     "evalue": "[Errno 2] No such file or directory: 'predictions_multi_headed.csv'",
     "output_type": "error",
     "traceback": [
      "\u001b[0;31m---------------------------------------------------------------------------\u001b[0m"
     ]
    }
   ],
   "source": [
    "np.savetxt('predictions_multi_headed.csv', predictions_multi_headed,fmt='%1.6f', delimiter=',')"
   ]
  },
  {
   "cell_type": "code",
   "execution_count": 307,
   "metadata": {},
   "outputs": [
    {
     "data": {
      "image/png": "[encoded data removed]",
      "text/plain": [
       "<Figure size 720x288 with 1 Axes>"
      ]
     },
     "metadata": {
      "needs_background": "light"
     },
     "output_type": "display_data"
    }
   ],
   "source": [
    "plt.figure(figsize=(10,4))\n",
    "plt.plot(doy,actual, label='Actual')\n",
    "CNN_multi_h = predictions_multi_headed [:,6]\n",
    "plt.plot(doy,actual, doy, CNN_multi_h)\n",
    "plt.title(\"CNN_multi_h\", fontsize=14)\n",
    "plt.xlabel('Day of Year (2019)',fontsize=14)\n",
    "plt.ylabel('Algal Biomass',fontsize=14)\n",
    "plt.show()"
   ]
  },
  {
   "cell_type": "markdown",
   "metadata": {},
   "source": [
    "## Encoder-Decoder LSTM With Multivariate Input"
   ]
  },
  {
   "cell_type": "code",
   "execution_count": 247,
   "metadata": {},
   "outputs": [],
   "source": [
    "# train the model\n",
    "def build_model_LSTM_multi(train_m, n_input):\n",
    "    # prepare data\n",
    "    train_x, train_y = to_supervised_multi(train_m, n_input)\n",
    "    # define parameters\n",
    "    verbose, epochs, batch_size = 0, 20, 16\n",
    "    n_timesteps, n_features, n_outputs = train_x.shape[1], train_x.shape[2], train_y.shape[1]\n",
    "    # reshape output into [samples, timesteps, features]\n",
    "    train_y = train_y.reshape((train_y.shape[0], train_y.shape[1], 1))\n",
    "    # define model\n",
    "    model = Sequential()\n",
    "    model.add(LSTM(200, activation='relu', input_shape=(n_timesteps, n_features)))\n",
    "    model.add(RepeatVector(n_outputs))\n",
    "    model.add(LSTM(200, activation='relu', return_sequences=True))\n",
    "    model.add(TimeDistributed(Dense(100, activation='relu')))\n",
    "    model.add(TimeDistributed(Dense(1)))\n",
    "    model.compile(loss='mse', optimizer='adam')\n",
    "    # fit network\n",
    "    model.fit(train_x, train_y, epochs=epochs, batch_size=batch_size, verbose=verbose)\n",
    "    return model"
   ]
  },
  {
   "cell_type": "code",
   "execution_count": 248,
   "metadata": {},
   "outputs": [],
   "source": [
    "# evaluate a single model\n",
    "def evaluate_model_LSTM_multi(train_m, test_m, n_input):\n",
    "\t# fit model\n",
    "\tmodel = build_model_LSTM_multi(train_m, n_input)\n",
    "\t# history is a list of weekly data\n",
    "\thistory = [x for x in train_m]\n",
    "\t# walk-forward validation over each week\n",
    "\tpredictions = list()\n",
    "\tfor i in range(len(test_m)-7):\n",
    "\t\t# predict the week\n",
    "\t\tyhat_sequence = forecast_multi(model, history, n_input)\n",
    "\t\t# store the predictions\n",
    "\t\tpredictions.append(yhat_sequence)\n",
    "\t\t# get real observation and add to history for predicting the next week\n",
    "\t\thistory.append(test_m[i, :])\n",
    "\t# evaluate predictions days for each week\n",
    "\tpredictions = array(predictions)\n",
    "\ttest_x, test_y= to_supervised_multi(test_m, 7, 1)\n",
    "\tscore, scores = evaluate_forecasts(test_x[:, :, 0], predictions)\n",
    "\treturn score, scores, predictions"
   ]
  },
  {
   "cell_type": "code",
   "execution_count": 249,
   "metadata": {},
   "outputs": [],
   "source": [
    "# evaluate model and get scores\n",
    "n_input = 7\n",
    "score, scores_LSTM_multi, predictions_LSTM_multi = evaluate_model_LSTM_multi(train_m, test_m, n_input)"
   ]
  },
  {
   "cell_type": "code",
   "execution_count": 250,
   "metadata": {},
   "outputs": [
    {
     "name": "stdout",
     "output_type": "stream",
     "text": [
      "LSTM_multi: [6.018] 3.4, 4.4, 5.3, 6.2, 6.8, 7.2, 7.6\n"
     ]
    }
   ],
   "source": [
    "# summarize scores\n",
    "summarize_scores('LSTM_multi', score, scores_LSTM_multi)\n"
   ]
  },
  {
   "cell_type": "code",
   "execution_count": 251,
   "metadata": {},
   "outputs": [],
   "source": [
    "predictions_LSTM_multi= predictions_LSTM_multi.reshape(predictions_LSTM_multi.shape[0], predictions_LSTM_multi.shape[1])"
   ]
  },
  {
   "cell_type": "code",
   "execution_count": 252,
   "metadata": {},
   "outputs": [
    {
     "name": "stderr",
     "output_type": "stream",
     "text": [
      "ERROR:root:Internal Python error in the inspect module.\n",
      "Below is the traceback from this internal error.\n",
      "\n"
     ]
    },
    {
     "name": "stdout",
     "output_type": "stream",
     "text": [
      "Traceback (most recent call last):\n",
      "  File \"/Users/nn2tf/anaconda3/lib/python3.7/site-packages/IPython/core/interactiveshell.py\", line 3325, in run_code\n",
      "    exec(code_obj, self.user_global_ns, self.user_ns)\n",
      "  File \"<ipython-input-252-8bd17f8f7d43>\", line 1, in <module>\n",
      "    np.savetxt('predictions_LSTM_multi.csv', predictions_LSTM_multi, fmt='%1.6f', delimiter=',')\n",
      "  File \"/Users/nn2tf/anaconda3/lib/python3.7/site-packages/numpy/lib/npyio.py\", line 1359, in savetxt\n",
      "    open(fname, 'wt').close()\n",
      "FileNotFoundError: [Errno 2] No such file or directory: 'predictions_LSTM_multi.csv'\n",
      "\n",
      "During handling of the above exception, another exception occurred:\n",
      "\n",
      "Traceback (most recent call last):\n",
      "  File \"/Users/nn2tf/anaconda3/lib/python3.7/site-packages/IPython/core/interactiveshell.py\", line 2039, in showtraceback\n",
      "    stb = value._render_traceback_()\n",
      "AttributeError: 'FileNotFoundError' object has no attribute '_render_traceback_'\n",
      "\n",
      "During handling of the above exception, another exception occurred:\n",
      "\n",
      "Traceback (most recent call last):\n",
      "  File \"/Users/nn2tf/anaconda3/lib/python3.7/site-packages/IPython/core/ultratb.py\", line 1101, in get_records\n",
      "    return _fixed_getinnerframes(etb, number_of_lines_of_context, tb_offset)\n",
      "  File \"/Users/nn2tf/anaconda3/lib/python3.7/site-packages/IPython/core/ultratb.py\", line 319, in wrapped\n",
      "    return f(*args, **kwargs)\n",
      "  File \"/Users/nn2tf/anaconda3/lib/python3.7/site-packages/IPython/core/ultratb.py\", line 353, in _fixed_getinnerframes\n",
      "    records = fix_frame_records_filenames(inspect.getinnerframes(etb, context))\n",
      "  File \"/Users/nn2tf/anaconda3/lib/python3.7/inspect.py\", line 1502, in getinnerframes\n",
      "    frameinfo = (tb.tb_frame,) + getframeinfo(tb, context)\n",
      "  File \"/Users/nn2tf/anaconda3/lib/python3.7/inspect.py\", line 1460, in getframeinfo\n",
      "    filename = getsourcefile(frame) or getfile(frame)\n",
      "  File \"/Users/nn2tf/anaconda3/lib/python3.7/inspect.py\", line 696, in getsourcefile\n",
      "    if getattr(getmodule(object, filename), '__loader__', None) is not None:\n",
      "  File \"/Users/nn2tf/anaconda3/lib/python3.7/inspect.py\", line 725, in getmodule\n",
      "    file = getabsfile(object, _filename)\n",
      "  File \"/Users/nn2tf/anaconda3/lib/python3.7/inspect.py\", line 709, in getabsfile\n",
      "    return os.path.normcase(os.path.abspath(_filename))\n",
      "  File \"/Users/nn2tf/anaconda3/lib/python3.7/posixpath.py\", line 383, in abspath\n",
      "    cwd = os.getcwd()\n",
      "FileNotFoundError: [Errno 2] No such file or directory\n"
     ]
    },
    {
     "ename": "FileNotFoundError",
     "evalue": "[Errno 2] No such file or directory: 'predictions_LSTM_multi.csv'",
     "output_type": "error",
     "traceback": [
      "\u001b[0;31m---------------------------------------------------------------------------\u001b[0m"
     ]
    }
   ],
   "source": [
    "np.savetxt('predictions_LSTM_multi.csv', predictions_LSTM_multi, fmt='%1.6f', delimiter=',')"
   ]
  },
  {
   "cell_type": "code",
   "execution_count": null,
   "metadata": {},
   "outputs": [],
   "source": [
    "plt.figure(figsize=(10,4))\n",
    "plt.plot(doy,actual, label='Actual')\n",
    "LSTM_multi = predictions_LSTM_multi [:,6]\n",
    "plt.plot(doy,actual, doy, LSTM_multi)\n",
    "plt.title(\"LSTM_multi\", fontsize=14)\n",
    "plt.xlabel('Day of Year (2019)',fontsize=14)\n",
    "plt.ylabel('Algal Biomass',fontsize=14)\n",
    "plt.show()"
   ]
  },
  {
   "cell_type": "code",
   "execution_count": null,
   "metadata": {},
   "outputs": [],
   "source": []
  },
  {
   "cell_type": "markdown",
   "metadata": {},
   "source": [
    "# Summarize results"
   ]
  },
  {
   "cell_type": "markdown",
   "metadata": {},
   "source": [
    "### Plot 1- Comparing the performance"
   ]
  },
  {
   "cell_type": "code",
   "execution_count": null,
   "metadata": {},
   "outputs": [],
   "source": [
    "days = ['1', '2', '3', '4', '5', '6', '7']\n",
    "mech = [6.371254058, 9.964882012,10.3674918,10.52675684,10.58225691,10.82599927,11.16455892]\n",
    "# plot scores\n",
    "pyplot.figure(figsize=(12,9))\n",
    "pyplot.plot(days, scores_Naive,marker='o', label=\"Naive (Persistence)\", color='Black', linewidth=2)\n",
    "pyplot.plot(days, mech,marker='*', label=\"Mechanistic Model\")\n",
    "pyplot.plot(days, scores_CNN_multi,marker='d', label=\"Deep Learning Model (CNN)\")\n",
    "\n",
    "\n",
    "# show plot\n",
    "pyplot.legend(fontsize=14, loc=4)\n",
    "pyplot.grid()\n",
    "pyplot.xlabel(\"Forecast Herizon (days)\",fontsize=16)\n",
    "pyplot.ylabel(\"RMSE\",fontsize=16)\n",
    "pyplot.savefig('/Volumes/GoogleDrive/My Drive/UVa/Spring2019/Presidential Fellowship/comparison paper/Figures/performance.jpeg')\n",
    "pyplot.show()"
   ]
  },
  {
   "cell_type": "code",
   "execution_count": null,
   "metadata": {},
   "outputs": [],
   "source": [
    "days = ['1', '2', '3', '4', '5', '6', '7']\n",
    "# plot scores\n",
    "pyplot.figure(figsize=(12,9))\n",
    "pyplot.plot(days, scores_Naive,marker='o', label=\"Naive (Persistence)\", color='Black', linewidth=2.5)\n",
    "pyplot.plot(days, scores_CNN,marker='x', label=\"Convoloutional Neural Net (CNN)\")\n",
    "pyplot.plot(days, scores_LSTM,marker='x', label=\"Long Short-term Memory (LSTM)\" )\n",
    "pyplot.plot(days, scores_hybrid,marker='x', label='Hybrid (CNN-LSTM)')\n",
    "pyplot.plot(days, scores_convLSTM,marker='o', label='Hybrid (ConvLSTM)')\n",
    "pyplot.plot(days, scores_LSTM_EnDe,marker='o', label='Encoder-Decoder LSTM')\n",
    "pyplot.plot(days, scores_MLP,marker='o', label=\"Multi-layer Perceptron (MLP)\")\n",
    "pyplot.plot(days, scores_CNN_multi,marker='d', label=\"Multi-variate CNN\")\n",
    "pyplot.plot(days, scores_multi_headed,marker='o', label='multi-headed CNN (Multi-variate)')\n",
    "pyplot.plot(days, scores_LSTM_multi, marker='d',label='Multi-variate LSTM')\n",
    "#pyplot.plot(days, mech_Log_const.Normalized_RMSE, marker='o',label=\"Log. - const. K\")\n",
    "\n",
    "# show plot\n",
    "pyplot.legend(fontsize=14, loc=2)\n",
    "pyplot.grid()\n",
    "pyplot.xlabel(\"Forecast Length (days)\",fontsize=16)\n",
    "pyplot.ylabel(\"Normalized RMSE\",fontsize=16)\n",
    "pyplot.savefig('/Volumes/GoogleDrive/My Drive/UVa/Spring2019/Presidential Fellowship/BloomForecasting/Results/Lake R/MLperformance.jpeg')\n",
    "pyplot.show()\n",
    "\n"
   ]
  },
  {
   "cell_type": "code",
   "execution_count": null,
   "metadata": {},
   "outputs": [],
   "source": [
    "days = ['1', '2', '3', '4', '5', '6', '7']\n",
    "# plot scores\n",
    "pyplot.figure(figsize=(12,9))\n",
    "pyplot.plot(days, scores_Naive,marker='o', label=\"Naive (Persistence)\", color='Black', linewidth=2.5)\n",
    "#pyplot.plot(days, scores_CNN,marker='o', label=\"Convoloutional Neural Net (CNN)\")\n",
    "#pyplot.plot(days, scores_LSTM,marker='o', label=\"Long Short-term Memory (LSTM)\" )\n",
    "#pyplot.plot(days, scores_hybrid,marker='o', label='Hybrid (CNN-LSTM)')\n",
    "#pyplot.plot(days, scores_convLSTM,marker='o', label='Hybrid (ConvLSTM)')\n",
    "#pyplot.plot(days, scores_LSTM_EnDe,marker='o', label='Encoder-Decoder LSTM')\n",
    "#pyplot.plot(days, scores_MLP,marker='o', label=\"Multi-layer Perceptron (MLP)\")\n",
    "pyplot.plot(days, scores_CNN_multi,marker='d', label=\"Multi-variate CNN\", color='r')\n",
    "#pyplot.plot(days, scores_multi_headed,marker='o', label='multi-headed CNN (Multi-variate)')\n",
    "#pyplot.plot(days, scores_LSTM_multi, marker='o',label='Multi-variate LSTM')\n",
    "pyplot.plot(days, mech_Log_const.Normalized_RMSE, marker='o',label=\"Mechanistic (Log. - const. K)\", color='teal')\n",
    "pyplot.plot(days, stat_ARIMA.Normalized_RMSE, marker='o',label=\"ARIMA\", color='purple')\n",
    "# show plot\n",
    "pyplot.legend(fontsize=14, loc=2)\n",
    "pyplot.grid()\n",
    "pyplot.xlabel(\"Forecast Length (days)\",fontsize=16)\n",
    "pyplot.ylabel(\"Normalized RMSE\",fontsize=16)\n",
    "pyplot.savefig('/Volumes/GoogleDrive/My Drive/UVa/Spring2019/Presidential Fellowship/BloomForecasting/Results/Lake R/Allperformance.jpeg')\n",
    "pyplot.show()\n",
    "\n"
   ]
  },
  {
   "cell_type": "code",
   "execution_count": null,
   "metadata": {},
   "outputs": [],
   "source": [
    "days = range(133,240)\n",
    "pyplot.figure(figsize=(15,5))\n",
    "pyplot.plot(days,test[:-7], label='Actual')\n",
    "pyplot.plot(days, ex_R[810:-14], label='Naive', color='black')\n",
    "#pyplot.plot(days,prediction_CNN[:,6],label=\"CNN\")\n",
    "#pyplot.plot(days,predictions_LSTM[:,6],label=\"Long Short-term Memory (LSTM)\")\n",
    "#pyplot.plot(days, predictions_convLSTM[:,6],label=\"convLSTM\")\n",
    "#pyplot.plot(days, predictions_hybrid[:,6],label=\"cnn_hybrid\")\n",
    "#pyplot.plot(days, predictions_LSTM_EnDe[:,6],label=\"LSTM_EnDe\")\n",
    "#pyplot.plot(days, predictions_MLP[:,6],label=\"MLP\")\n",
    "pyplot.plot(days, predictions_CNN_multi[:,6],label=\"Multi-variate CNN\")\n",
    "#pyplot.plot(days, predictions_LSTM_multi[:,6],label=\"Multi-variate LSTM\")\n",
    "pyplot.legend(fontsize=12, loc=2)\n",
    "pyplot.title(\"7-day forecast, lake Peter, 2019\", fontsize=14)\n",
    "pyplot.xlabel('Day of Year (2019)',fontsize=14)\n",
    "pyplot.ylabel('Algal Biomass',fontsize=14)\n",
    "pyplot.savefig('/Volumes/GoogleDrive/My Drive/UVa/Spring2019/Presidential Fellowship/BloomForecasting/Results/Lake R/ML-7-daysForecast.jpeg')\n",
    "pyplot.show()"
   ]
  },
  {
   "cell_type": "code",
   "execution_count": null,
   "metadata": {},
   "outputs": [],
   "source": [
    "days"
   ]
  },
  {
   "cell_type": "code",
   "execution_count": null,
   "metadata": {},
   "outputs": [],
   "source": [
    "days = range(133,240)\n",
    "pyplot.figure(figsize=(15,5))\n",
    "pyplot.plot(days,test[:-7], label='Actual')\n",
    "pyplot.plot(days, ex_R[810:-14], label='Naive', color='black')\n",
    "#pyplot.plot(days,prediction_CNN[:,6],label=\"CNN\")\n",
    "#pyplot.plot(days,predictions_LSTM[:,6],label=\"Long Short-term Memory (LSTM)\")\n",
    "#pyplot.plot(days, predictions_convLSTM[:,6],label=\"convLSTM\")\n",
    "#pyplot.plot(days, predictions_hybrid[:,6],label=\"cnn_hybrid\")\n",
    "#pyplot.plot(days, predictions_LSTM_EnDe[:,6],label=\"LSTM_EnDe\")\n",
    "#pyplot.plot(days, predictions_MLP[:,6],label=\"MLP\")\n",
    "pyplot.plot(days, predictions_CNN_multi[:,6],label=\"Multi-variate CNN\")\n",
    "#pyplot.plot(days, predictions_LSTM_multi[:,6],label=\"Multi-variate LSTM\")\n",
    "pyplot.plot(forecast_arima_7[2:-10].doy,forecast_arima_7[2:-10].Forecast, label='ARIMA')\n",
    "#pyplot.plot(forecast_mech_7[2:-10].doy,forecast_mech_7[2:-10].Forecast, label='Mechanistic, logistic Constant K')\n",
    "pyplot.legend(fontsize=12, loc=2)\n",
    "pyplot.title(\"7-day forecast, lake Peter, 2019\", fontsize=14)\n",
    "pyplot.xlabel('Day of Year (2019)',fontsize=14)\n",
    "pyplot.ylabel('Algal Biomass',fontsize=14)\n",
    "pyplot.savefig('/Volumes/GoogleDrive/My Drive/UVa/Spring2019/Presidential Fellowship/BloomForecasting/Results/Lake R/All model-7-daysForecast.jpeg')\n",
    "pyplot.show()"
   ]
  },
  {
   "cell_type": "code",
   "execution_count": null,
   "metadata": {},
   "outputs": [],
   "source": [
    "#5-day forecasting\n",
    "days = range(133,240)\n",
    "pyplot.figure(figsize=(15,5))\n",
    "pyplot.plot(days,test[:-7], label='Actual')\n",
    "pyplot.plot(days, predictions_CNN_multi[:,0],label=\"One-day forecast\")\n",
    "pyplot.plot(days, predictions_CNN_multi[:,2],label=\"Three-day forecast\")\n",
    "pyplot.plot(days, predictions_CNN_multi[:,6],label=\"Seven-day forecast\")\n",
    "pyplot.legend(loc=2, fontsize=12)\n",
    "pyplot.title(\"Multi-channel CNN, lake Peter, 2019\")\n",
    "pyplot.xlabel('Days of Year (2019)')\n",
    "pyplot.ylabel('Algal Biomass')\n",
    "pyplot.savefig('/Volumes/GoogleDrive/My Drive/UVa/Spring2019/Presidential Fellowship/BloomForecasting/Results/Lake R/1-3-7.jpeg')\n",
    "pyplot.show()"
   ]
  },
  {
   "cell_type": "code",
   "execution_count": null,
   "metadata": {},
   "outputs": [],
   "source": [
    "#5-day forecasting\n",
    "days = range(133,240)\n",
    "pyplot.figure(figsize=(15,5))\n",
    "pyplot.plot(days,test[:-7], label='Actual')\n",
    "pyplot.plot(days, predictions_hybrid[:,0],label=\"One-day forecast\")\n",
    "pyplot.plot(days, predictions_hybrid[:,2],label=\"Three-day forecast\")\n",
    "pyplot.plot(days, predictions_hybrid[:,6],label=\"Seven-day forecast\")\n",
    "pyplot.legend(loc=2, fontsize=12)\n",
    "pyplot.title(\"Multi-channel CNN, lake Peter, 2019\", fontsize=14)\n",
    "pyplot.xlabel('Days of Year (2019)', fontsize=14)\n",
    "pyplot.ylabel('Algal Biomass', fontsize=14)\n",
    "pyplot.show()"
   ]
  },
  {
   "cell_type": "code",
   "execution_count": null,
   "metadata": {},
   "outputs": [],
   "source": [
    "# load the new file\n",
    "Raw = read_csv('/Volumes/GoogleDrive/My Drive/UVa/Spring2019/Presidential Fellowship/BloomForecasting/Data/Raw/ExperimentalLakes/experimentalLakes_combinedData_daily_allDates_v1.csv', header=0, infer_datetime_format=True)\n",
    "Raw_R = Raw[Raw.Lake=='R']\n",
    "Raw_R = Raw_R.dropna(subset=[\"Chl\"])"
   ]
  },
  {
   "cell_type": "code",
   "execution_count": null,
   "metadata": {},
   "outputs": [],
   "source": [
    "Raw_R.info()"
   ]
  },
  {
   "cell_type": "code",
   "execution_count": null,
   "metadata": {},
   "outputs": [],
   "source": [
    "#Raw_R=Raw_R.set_index('Date')"
   ]
  },
  {
   "cell_type": "code",
   "execution_count": null,
   "metadata": {},
   "outputs": [],
   "source": [
    "Raw_R.Date = pd.to_datetime(Raw_R.Date)\n",
    "Raw_train=Raw_R[Raw_R['Year']<2019]\n",
    "Raw_test=Raw_R[Raw_R['Year']==2019]"
   ]
  },
  {
   "cell_type": "code",
   "execution_count": null,
   "metadata": {},
   "outputs": [],
   "source": [
    " #!/usr/bin/python\n",
    "from matplotlib import pyplot as plt\n",
    "from matplotlib import dates\n",
    "from datetime import datetime\n",
    "import sys\n",
    "days = dates.DayLocator()\n",
    "Months = dates.MonthLocator()\n",
    "years = dates.YearLocator()\n",
    "dfmt = dates.DateFormatter('%Y') \n",
    "datemin = datetime(2008, 1,1)\n",
    "datemax = datetime(2019, 12,31)\n",
    "fig = plt.figure()\n",
    "ax = fig.add_subplot(111)\n",
    "ax.xaxis.set_major_locator(years)\n",
    "ax.xaxis.set_major_formatter(dfmt)\n",
    "ax.xaxis.set_minor_locator(Months)\n",
    "ax.set_xlim(datemin, datemax)\n",
    "ax.set_ylabel('Biomass Abundance')\n",
    "ax.grid(True)\n",
    "ax.plot(Raw_train.Date, Raw_train.Chl, label='Train')\n",
    "fig.set_size_inches(15, 7)"
   ]
  },
  {
   "cell_type": "code",
   "execution_count": null,
   "metadata": {},
   "outputs": [],
   "source": [
    "\n",
    "\n",
    "\n",
    "\n",
    "\n",
    "\n",
    "\n",
    "\n",
    "\n",
    "\n",
    "\n",
    "\n",
    "\n",
    "#plt.savefig('temperatures.pdf', format='pdf')"
   ]
  },
  {
   "cell_type": "code",
   "execution_count": null,
   "metadata": {},
   "outputs": [],
   "source": [
    "plt.figure(figsize=(15,5))\n",
    "Raw_train.plot( y=['Chl'], rot=45)\n",
    "Raw_test.plot(y=['Chl'], rot=45)\n",
    "plt.xlabel('Date')\n",
    "plt.ylabel('Algal Biomass')\n",
    "plt.rc('font', size=14)          # controls default text sizes\n",
    "plt.rc('axes', titlesize=10)     # fontsize of the axes title\n",
    "plt.rc('axes', labelsize=10)    # fontsize of the x and y labels\n",
    "plt.rc('xtick', labelsize=8)    # fontsize of the tick labels\n",
    "plt.rc('ytick', labelsize=8)    # fontsize of the tick labels\n",
    "plt.rc('legend', fontsize=12)    # legend fontsize\n",
    "#plt.rc('figure', titlesize=BIGGER_SIZE)  # fontsize of the figure title\n",
    "#plt.savefig('Scatterplot_dailychlor.png')"
   ]
  },
  {
   "cell_type": "code",
   "execution_count": null,
   "metadata": {},
   "outputs": [],
   "source": [
    "import numpy as np\n",
    "import matplotlib.pyplot as plt\n",
    "import matplotlib.ticker as ticker\n",
    "ax = plt.axes()\n",
    "plt.rcParams[\"figure.figsize\"] = (15,5)\n",
    "ax.plot(Raw_train.Date, Raw_train.Chl, label='Train')\n",
    "ax.plot(Raw_test.Date, Raw_test.Chl, color='red', label='Test')\n",
    "pyplot.legend(loc=2, fontsize=12)\n",
    "pyplot.title(\"Train-Test Split\", fontsize=14)\n",
    "pyplot.xlabel('Date', fontsize=14)\n",
    "pyplot.ylabel('Algal Biomass', fontsize=14)\n",
    "plt.show()"
   ]
  },
  {
   "cell_type": "code",
   "execution_count": null,
   "metadata": {},
   "outputs": [],
   "source": [
    "pyplot.figure(figsize=(15,5))\n",
    "\n",
    "pyplot.plot(Raw_train.Chl, label='Train set')\n",
    "pyplot.plot(Raw_test.Chl, color='red', label='Test set')\n",
    "#pyplot.plot(X,Y, label='Actual')\n",
    "pyplot.legend(loc=2, fontsize=12)\n",
    "pyplot.title(\"Train-Test Split\", fontsize=14)\n",
    "pyplot.xlabel('Date', fontsize=14)\n",
    "pyplot.ylabel('Algal Biomass', fontsize=14)\n",
    "pyplot.savefig('/Volumes/GoogleDrive/My Drive/UVa/Spring2019/Presidential Fellowship/BloomForecasting/Results/Lake R/train-test.jpeg')\n",
    "pyplot.show()"
   ]
  },
  {
   "cell_type": "code",
   "execution_count": null,
   "metadata": {},
   "outputs": [],
   "source": [
    "# load the new file\n",
    "statistical = read_csv('/Volumes/GoogleDrive/My Drive/UVa/Spring2019/Presidential Fellowship/BloomForecasting/Results/StatisticalModels_withNaive_RMSE_normalized.csv', header=0)\n",
    "Mechanistic = read_csv('/Volumes/GoogleDrive/My Drive/UVa/Spring2019/Presidential Fellowship/BloomForecasting/Results/MechanisticModels_withNaive_RMSE_normalized.csv', header=0)\n",
    "statistical = read_csv('/Volumes/GoogleDrive/My Drive/UVa/Spring2019/Presidential Fellowship/BloomForecasting/Results/StatisticalModels_withNaive_RMSE_normalized.csv', header=0)"
   ]
  },
  {
   "cell_type": "code",
   "execution_count": null,
   "metadata": {},
   "outputs": [],
   "source": [
    "stat_R=statistical[statistical.Lake=='R']\n",
    "mech_R=Mechanistic[Mechanistic.Lake=='R']"
   ]
  },
  {
   "cell_type": "code",
   "execution_count": null,
   "metadata": {},
   "outputs": [],
   "source": [
    "mech_R.info()"
   ]
  },
  {
   "cell_type": "code",
   "execution_count": null,
   "metadata": {},
   "outputs": [],
   "source": [
    "set(stat_R.Model)"
   ]
  },
  {
   "cell_type": "code",
   "execution_count": null,
   "metadata": {},
   "outputs": [],
   "source": [
    "stat_ARIMA=stat_R[stat_R.Model=='ARIMA']\n",
    "stat_ARIMA_1=stat_R[stat_R.Model=='ARIMA - 1st diff.']\n",
    "stat_Naive=stat_R[stat_R.Model=='Naive']\n",
    "stat_SETAR=stat_R[stat_R.Model=='SETAR']\n",
    "stat_SETAR_1=stat_R[stat_R.Model=='SETAR - 1st Diff.']"
   ]
  },
  {
   "cell_type": "code",
   "execution_count": null,
   "metadata": {},
   "outputs": [],
   "source": [
    "# plot scores\n",
    "pyplot.figure(figsize=(12,9))\n",
    "pyplot.plot(stat_Naive.horizon, stat_Naive.Normalized_RMSE, marker='o',label=\"Naive\", color='Black', linewidth=2.5)\n",
    "pyplot.plot(stat_ARIMA.horizon, stat_ARIMA.Normalized_RMSE, marker='o',label=\"ARIMA\")\n",
    "pyplot.plot(stat_ARIMA_1.horizon, stat_ARIMA_1.Normalized_RMSE, marker='o',label=\"ARIMA - 1st diff.\")\n",
    "pyplot.plot(stat_SETAR.horizon, stat_SETAR.Normalized_RMSE, marker='o',label=\"stat_SETAR\")\n",
    "pyplot.plot(stat_SETAR_1.horizon, stat_SETAR_1.Normalized_RMSE, marker='o',label=\"SETAR - 1st Diff.\")\n",
    "# show plot\n",
    "pyplot.legend(loc=2, fontsize=12)\n",
    "pyplot.grid()\n",
    "#pyplot.title()\n",
    "pyplot.xlabel(\"Forecast Length (days)\", fontsize=16)\n",
    "pyplot.ylabel(\"Normalized RMSE\", fontsize=16)\n",
    "pyplot.savefig('/Volumes/GoogleDrive/My Drive/UVa/Spring2019/Presidential Fellowship/BloomForecasting/Results/Lake R/statperformance.jpeg')\n",
    "pyplot.show()"
   ]
  },
  {
   "cell_type": "code",
   "execution_count": null,
   "metadata": {},
   "outputs": [],
   "source": [
    "mech_Exp_load= mech_R[mech_R.Model=='Exp. - load.']\n",
    "mech_Exp_load_ir= mech_R[mech_R.Model=='Exp. - load. & irr.']\n",
    "mech_Naive = mech_R[mech_R.Model=='Naive']\n",
    "mech_Log_const = mech_R[mech_R.Model=='Log. - const. K']\n",
    "mech_Log_load = mech_R[mech_R.Model=='Log. - load. K']"
   ]
  },
  {
   "cell_type": "code",
   "execution_count": null,
   "metadata": {},
   "outputs": [],
   "source": [
    "# plot scores\n",
    "pyplot.figure(figsize=(12,9))\n",
    "pyplot.plot(stat_Naive.horizon, stat_Naive.Normalized_RMSE, marker='o', label=\"Naive\", color='Black', linewidth=2.5)\n",
    "pyplot.plot(mech_Exp_load.horizon, mech_Exp_load.Normalized_RMSE, marker='o',label=\"Exp. - load.\")\n",
    "pyplot.plot(mech_Exp_load_ir.horizon, mech_Exp_load_ir.Normalized_RMSE, marker='o', label=\"Exp. - load. & irr.\")\n",
    "pyplot.plot(mech_Log_const.horizon, mech_Log_const.Normalized_RMSE, marker='o',label=\"Log. - const. K\")\n",
    "pyplot.plot(mech_Log_load.horizon, mech_Log_load.Normalized_RMSE,marker='o', label=\"Log. - load. K\")\n",
    "# show plot\n",
    "pyplot.legend(loc=2, fontsize=12)\n",
    "pyplot.grid()\n",
    "#pyplot.title()\n",
    "pyplot.xlabel(\"Forecast Length (days)\", fontsize=16)\n",
    "pyplot.ylabel(\"Normalized RMSE\", fontsize=16)\n",
    "pyplot.savefig('/Volumes/GoogleDrive/My Drive/UVa/Spring2019/Presidential Fellowship/BloomForecasting/Results/Lake R/mechperformance.jpeg')\n",
    "pyplot.show()"
   ]
  },
  {
   "cell_type": "code",
   "execution_count": null,
   "metadata": {},
   "outputs": [],
   "source": [
    "forecast_arima = read_csv('/Volumes/GoogleDrive/My Drive/UVa/Spring2019/Presidential Fellowship/BloomForecasting/Results/Forecasts_ARIMA_Peter2019_formatted_normalized.csv', header=0)\n",
    "forecast_mech = read_csv('/Volumes/GoogleDrive/My Drive/UVa/Spring2019/Presidential Fellowship/BloomForecasting/Results/Forecasts_Mechanistic_logisticConstantK_Peter2019_formatted_normalized.csv', header=0)"
   ]
  },
  {
   "cell_type": "code",
   "execution_count": null,
   "metadata": {},
   "outputs": [],
   "source": [
    "forecast_arima.info()"
   ]
  },
  {
   "cell_type": "code",
   "execution_count": null,
   "metadata": {},
   "outputs": [],
   "source": [
    "forecast_mech_7=forecast_mech[forecast_mech.horizon==7]"
   ]
  },
  {
   "cell_type": "code",
   "execution_count": null,
   "metadata": {},
   "outputs": [],
   "source": [
    "forecast_arima_7=forecast_arima[forecast_arima.horizon==7]\n",
    "forecast_arima_3=forecast_arima[forecast_arima.horizon==3]\n",
    "forecast_arima_1=forecast_arima[forecast_arima.horizon==1]"
   ]
  },
  {
   "cell_type": "code",
   "execution_count": null,
   "metadata": {},
   "outputs": [],
   "source": [
    "days = range(133,240)\n",
    "pyplot.figure(figsize=(15,5))\n",
    "pyplot.plot(forecast_arima_7.doy,forecast_arima_7.Forecast_Naive, label='Naive', color= 'black')\n",
    "pyplot.plot(forecast_arima_7.doy,forecast_arima_7.Chl, label='Actual')\n",
    "pyplot.plot(forecast_arima_7.doy,forecast_arima_7.Forecast, label='ARIMA')\n",
    "pyplot.legend(fontsize=12, loc=2)\n",
    "pyplot.title(\"7-day forecast, lake Peter, 2019\", fontsize=14)\n",
    "pyplot.xlabel('Day of Year (2019)',fontsize=14)\n",
    "pyplot.ylabel('Algal Biomass',fontsize=14)\n",
    "pyplot.savefig('/Volumes/GoogleDrive/My Drive/UVa/Spring2019/Presidential Fellowship/BloomForecasting/Results/Lake R/stat-7-daysForecast.jpeg')\n",
    "pyplot.show()"
   ]
  },
  {
   "cell_type": "code",
   "execution_count": null,
   "metadata": {},
   "outputs": [],
   "source": [
    "days = range(133,240)\n",
    "pyplot.figure(figsize=(15,5))\n",
    "pyplot.plot(forecast_mech_7.doy,forecast_mech_7.Forecast_Naive, label='Naive', color= 'black')\n",
    "pyplot.plot(forecast_mech_7.doy,forecast_mech_7.Chl, label='Actual')\n",
    "pyplot.plot(forecast_mech_7.doy,forecast_mech_7.Forecast, label='Mechanistic, logistic Constant K')\n",
    "pyplot.legend(fontsize=12, loc=2)\n",
    "pyplot.title(\"7-day forecast, lake Peter, 2019\", fontsize=14)\n",
    "pyplot.xlabel('Day of Year (2019)',fontsize=14)\n",
    "pyplot.ylabel('Algal Biomass',fontsize=14)\n",
    "pyplot.savefig('/Volumes/GoogleDrive/My Drive/UVa/Spring2019/Presidential Fellowship/BloomForecasting/Results/Lake R/-mech-7-daysForecast.jpeg')\n",
    "pyplot.show()"
   ]
  },
  {
   "cell_type": "code",
   "execution_count": null,
   "metadata": {},
   "outputs": [],
   "source": [
    "slope, intercept, r_value, p_value, std_err = stats.linregress(forecast_arima_1.Chl[2:-10],forecast_arima_1[2:-10].Forecast)\n",
    "r_squared = r_value * r_value\n",
    "print(slope, intercept, r_value, p_value, std_err, r_squared)"
   ]
  },
  {
   "cell_type": "code",
   "execution_count": null,
   "metadata": {},
   "outputs": [],
   "source": [
    "slope, intercept, r_value, p_value, std_err = stats.linregress(forecast_arima_3.Chl[5:-10],forecast_arima_3[5:-10].Forecast)\n",
    "r_squared = r_value * r_value\n",
    "print(slope, intercept, r_value, p_value, std_err, r_squared)"
   ]
  },
  {
   "cell_type": "code",
   "execution_count": null,
   "metadata": {},
   "outputs": [],
   "source": [
    "slope, intercept, r_value, p_value, std_err = stats.linregress(forecast_arima_7.Chl[9:-10],forecast_arima_7[9:-10].Forecast)\n",
    "r_squared = r_value * r_value\n",
    "print(slope, intercept, r_value, p_value, std_err, r_squared)"
   ]
  },
  {
   "cell_type": "code",
   "execution_count": null,
   "metadata": {},
   "outputs": [],
   "source": [
    "import seaborn as sns\n",
    "Naive1 = sns.regplot(x=test_x[:, 0, 0], y=prediction_Naive[:, 0])\n",
    "pyplot.xlabel('CHLa Observed',fontsize=14)\n",
    "pyplot.ylabel('CHLa Predicted ',fontsize=14)\n",
    "pyplot.show()\n",
    "Naive3 = sns.regplot(x=test_x[:, 2, 0], y=prediction_Naive[:, 2])\n",
    "pyplot.xlabel('CHLa Observed',fontsize=14)\n",
    "pyplot.ylabel('CHLa Predicted ',fontsize=14)\n",
    "pyplot.show()\n",
    "Naive7 = sns.regplot(x=test_x[:, 6, 0], y=prediction_Naive[:, 6])\n",
    "pyplot.xlabel('CHLa Observed',fontsize=14)\n",
    "pyplot.ylabel('CHLa Predicted ',fontsize=14)\n",
    "pyplot.show()\n",
    "CNN1 = sns.regplot(x=test_x[:, 0, 0], y=predictions_CNN_multi[:, 0])\n",
    "pyplot.xlabel('CHLa Observed',fontsize=14)\n",
    "pyplot.ylabel('CHLa Predicted ',fontsize=14)\n",
    "pyplot.show()\n",
    "CNN3 = sns.regplot(x=test_x[:, 2, 0], y=predictions_CNN_multi[:, 2])\n",
    "pyplot.xlabel('CHLa Observed',fontsize=14)\n",
    "pyplot.ylabel('CHLa Predicted ',fontsize=14)\n",
    "pyplot.show()\n",
    "CNN7 = sns.regplot(x=test_x[:, 6, 0], y=predictions_CNN_multi[:, 6])\n",
    "pyplot.xlabel('CHLa Observed',fontsize=14)\n",
    "pyplot.ylabel('CHLa Predicted ',fontsize=14)\n",
    "pyplot.show()\n",
    "ARIMA1 = sns.regplot(x=forecast_arima_1.Chl, y=forecast_arima_1.Forecast)\n",
    "pyplot.xlabel('CHLa Observed',fontsize=14)\n",
    "pyplot.ylabel('CHLa Predicted ',fontsize=14)\n",
    "pyplot.show()\n",
    "ARIMA3 = sns.regplot(x=forecast_arima_3.Chl, y=forecast_arima_3.Forecast)\n",
    "pyplot.xlabel('CHLa Observed',fontsize=14)\n",
    "pyplot.ylabel('CHLa Predicted ',fontsize=14)\n",
    "pyplot.show()\n",
    "ARIMA7 = sns.regplot(x=forecast_arima_7.Chl, y=forecast_arima_7.Forecast)\n",
    "pyplot.xlabel('CHLa Observed',fontsize=14)\n",
    "pyplot.ylabel('CHLa Predicted ',fontsize=14)\n",
    "pyplot.show()\n",
    "\n"
   ]
  },
  {
   "cell_type": "markdown",
   "metadata": {},
   "source": [
    "### Residual Calculation"
   ]
  },
  {
   "cell_type": "code",
   "execution_count": null,
   "metadata": {},
   "outputs": [],
   "source": [
    "Res_Naive7= test_y[0]- prediction_Naive[:, 6]\n",
    "Res_ARIMA7= forecast_arima_7[9:-10].Chl-forecast_arima_7[9:-10].Forecast\n",
    "Res_CNN7= test_y[0] - predictions_CNN_multi[:, 6]"
   ]
  },
  {
   "cell_type": "code",
   "execution_count": null,
   "metadata": {},
   "outputs": [],
   "source": [
    "Res_Naive7"
   ]
  },
  {
   "cell_type": "code",
   "execution_count": null,
   "metadata": {},
   "outputs": [],
   "source": [
    "1-np.std(prediction_Naive[:, 6])/np.std(test_x[:, 0, 0])"
   ]
  },
  {
   "cell_type": "code",
   "execution_count": null,
   "metadata": {},
   "outputs": [],
   "source": [
    "1-np.std(forecast_arima_7.Chl[9:-10])/np.std(test_x[:, 0, 0])"
   ]
  },
  {
   "cell_type": "code",
   "execution_count": null,
   "metadata": {},
   "outputs": [],
   "source": [
    "1-np.std(predictions_CNN_multi[:, 6])/np.std(test_x[:, 0, 0])"
   ]
  },
  {
   "cell_type": "markdown",
   "metadata": {},
   "source": [
    "### Residual Distribution"
   ]
  },
  {
   "cell_type": "code",
   "execution_count": null,
   "metadata": {},
   "outputs": [],
   "source": [
    "from scipy.stats import norm\n",
    "import matplotlib.mlab as mlab\n",
    "import matplotlib.pyplot as plt\n",
    "\n",
    "# best fit of data\n",
    "(mu, sigma) = norm.fit(Res_Naive7)\n",
    "\n",
    "# the histogram of the data\n",
    "_, bins, _ = plt.hist(Res_Naive7, 20, density=1)\n",
    "\n",
    "# add a 'best fit' line\n",
    "y = norm.pdf(bins, mu, sigma)\n",
    "l = plt.plot(bins, y, 'r--', linewidth=2)\n",
    "\n",
    "#plot\n",
    "plt.xlabel('Naive Forecast Residuals')\n",
    "plt.ylabel('Probability')\n",
    "plt.title(r'$\\mathrm{Histogram\\ of\\ IQ:}\\ \\mu=%.3f,\\ \\sigma=%.3f$' %(mu, sigma))\n",
    "plt.grid(True)\n",
    "\n",
    "plt.show()"
   ]
  },
  {
   "cell_type": "code",
   "execution_count": null,
   "metadata": {},
   "outputs": [],
   "source": [
    "# best fit of data\n",
    "(mu, sigma) = norm.fit(Res_ARIMA7)\n",
    "\n",
    "# the histogram of the data\n",
    "_, bins, _ = plt.hist(Res_ARIMA7, 20, density=1, alpha=0.8)\n",
    "\n",
    "# add a 'best fit' line\n",
    "y = norm.pdf(bins, mu, sigma)\n",
    "l = plt.plot(bins, y, 'r--', linewidth=2)\n",
    "\n",
    "#plot\n",
    "plt.xlabel('ARIMA Forecast Residuals')\n",
    "plt.ylabel('Probability')\n",
    "plt.title(r'$\\mathrm{Histogram\\ of\\ IQ:}\\ \\mu=%.3f,\\ \\sigma=%.3f$' %(mu, sigma))\n",
    "plt.grid(True)\n",
    "\n",
    "plt.show()"
   ]
  },
  {
   "cell_type": "code",
   "execution_count": null,
   "metadata": {},
   "outputs": [],
   "source": [
    "# best fit of data\n",
    "(mu, sigma) = norm.fit(Res_CNN7)\n",
    "\n",
    "# the histogram of the data\n",
    "_, bins, _ = plt.hist(Res_CNN7, 20, density=1, alpha=0.8)\n",
    "\n",
    "# add a 'best fit' line\n",
    "y = norm.pdf(bins, mu, sigma)\n",
    "l = plt.plot(bins, y, 'r--', linewidth=2)\n",
    "\n",
    "#plot\n",
    "plt.xlabel('CNN Forecast Residuals')\n",
    "plt.ylabel('Probability')\n",
    "plt.title(r'$\\mathrm{Histogram\\ of\\ IQ:}\\ \\mu=%.3f,\\ \\sigma=%.3f$' %(mu, sigma))\n",
    "plt.grid(True)\n",
    "\n",
    "plt.show()"
   ]
  },
  {
   "cell_type": "markdown",
   "metadata": {},
   "source": [
    "### Plot 1- Performance comparison"
   ]
  },
  {
   "cell_type": "code",
   "execution_count": null,
   "metadata": {},
   "outputs": [],
   "source": []
  }
 ],
 "metadata": {
  "kernelspec": {
   "display_name": "Python 3",
   "language": "python",
   "name": "python3"
  },
  "language_info": {
   "codemirror_mode": {
    "name": "ipython",
    "version": 3
   },
   "file_extension": ".py",
   "mimetype": "text/x-python",
   "name": "python",
   "nbconvert_exporter": "python",
   "pygments_lexer": "ipython3",
   "version": "3.7.3"
  }
 },
 "nbformat": 4,
 "nbformat_minor": 4
}
